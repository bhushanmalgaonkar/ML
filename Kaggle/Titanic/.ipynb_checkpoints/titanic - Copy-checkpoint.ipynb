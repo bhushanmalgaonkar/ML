{
 "cells": [
  {
   "cell_type": "code",
   "execution_count": 1,
   "metadata": {},
   "outputs": [],
   "source": [
    "import numpy as np\n",
    "import pandas as pd\n",
    "import seaborn as sns\n",
    "import matplotlib.pyplot as plt\n",
    "\n",
    "%matplotlib inline"
   ]
  },
  {
   "cell_type": "code",
   "execution_count": 2,
   "metadata": {},
   "outputs": [],
   "source": [
    "train = pd.read_csv('data/train.csv')\n",
    "test = pd.read_csv('data/test.csv')"
   ]
  },
  {
   "cell_type": "markdown",
   "metadata": {},
   "source": [
    "# Exploratory data analysis"
   ]
  },
  {
   "cell_type": "code",
   "execution_count": 3,
   "metadata": {},
   "outputs": [
    {
     "data": {
      "text/html": [
       "<div>\n",
       "<style scoped>\n",
       "    .dataframe tbody tr th:only-of-type {\n",
       "        vertical-align: middle;\n",
       "    }\n",
       "\n",
       "    .dataframe tbody tr th {\n",
       "        vertical-align: top;\n",
       "    }\n",
       "\n",
       "    .dataframe thead th {\n",
       "        text-align: right;\n",
       "    }\n",
       "</style>\n",
       "<table border=\"1\" class=\"dataframe\">\n",
       "  <thead>\n",
       "    <tr style=\"text-align: right;\">\n",
       "      <th></th>\n",
       "      <th>PassengerId</th>\n",
       "      <th>Survived</th>\n",
       "      <th>Pclass</th>\n",
       "      <th>Name</th>\n",
       "      <th>Sex</th>\n",
       "      <th>Age</th>\n",
       "      <th>SibSp</th>\n",
       "      <th>Parch</th>\n",
       "      <th>Ticket</th>\n",
       "      <th>Fare</th>\n",
       "      <th>Cabin</th>\n",
       "      <th>Embarked</th>\n",
       "    </tr>\n",
       "  </thead>\n",
       "  <tbody>\n",
       "    <tr>\n",
       "      <th>0</th>\n",
       "      <td>1</td>\n",
       "      <td>0</td>\n",
       "      <td>3</td>\n",
       "      <td>Braund, Mr. Owen Harris</td>\n",
       "      <td>male</td>\n",
       "      <td>22.0</td>\n",
       "      <td>1</td>\n",
       "      <td>0</td>\n",
       "      <td>A/5 21171</td>\n",
       "      <td>7.2500</td>\n",
       "      <td>NaN</td>\n",
       "      <td>S</td>\n",
       "    </tr>\n",
       "    <tr>\n",
       "      <th>1</th>\n",
       "      <td>2</td>\n",
       "      <td>1</td>\n",
       "      <td>1</td>\n",
       "      <td>Cumings, Mrs. John Bradley (Florence Briggs Th...</td>\n",
       "      <td>female</td>\n",
       "      <td>38.0</td>\n",
       "      <td>1</td>\n",
       "      <td>0</td>\n",
       "      <td>PC 17599</td>\n",
       "      <td>71.2833</td>\n",
       "      <td>C85</td>\n",
       "      <td>C</td>\n",
       "    </tr>\n",
       "    <tr>\n",
       "      <th>2</th>\n",
       "      <td>3</td>\n",
       "      <td>1</td>\n",
       "      <td>3</td>\n",
       "      <td>Heikkinen, Miss. Laina</td>\n",
       "      <td>female</td>\n",
       "      <td>26.0</td>\n",
       "      <td>0</td>\n",
       "      <td>0</td>\n",
       "      <td>STON/O2. 3101282</td>\n",
       "      <td>7.9250</td>\n",
       "      <td>NaN</td>\n",
       "      <td>S</td>\n",
       "    </tr>\n",
       "    <tr>\n",
       "      <th>3</th>\n",
       "      <td>4</td>\n",
       "      <td>1</td>\n",
       "      <td>1</td>\n",
       "      <td>Futrelle, Mrs. Jacques Heath (Lily May Peel)</td>\n",
       "      <td>female</td>\n",
       "      <td>35.0</td>\n",
       "      <td>1</td>\n",
       "      <td>0</td>\n",
       "      <td>113803</td>\n",
       "      <td>53.1000</td>\n",
       "      <td>C123</td>\n",
       "      <td>S</td>\n",
       "    </tr>\n",
       "    <tr>\n",
       "      <th>4</th>\n",
       "      <td>5</td>\n",
       "      <td>0</td>\n",
       "      <td>3</td>\n",
       "      <td>Allen, Mr. William Henry</td>\n",
       "      <td>male</td>\n",
       "      <td>35.0</td>\n",
       "      <td>0</td>\n",
       "      <td>0</td>\n",
       "      <td>373450</td>\n",
       "      <td>8.0500</td>\n",
       "      <td>NaN</td>\n",
       "      <td>S</td>\n",
       "    </tr>\n",
       "  </tbody>\n",
       "</table>\n",
       "</div>"
      ],
      "text/plain": [
       "   PassengerId  Survived  Pclass  \\\n",
       "0            1         0       3   \n",
       "1            2         1       1   \n",
       "2            3         1       3   \n",
       "3            4         1       1   \n",
       "4            5         0       3   \n",
       "\n",
       "                                                Name     Sex   Age  SibSp  \\\n",
       "0                            Braund, Mr. Owen Harris    male  22.0      1   \n",
       "1  Cumings, Mrs. John Bradley (Florence Briggs Th...  female  38.0      1   \n",
       "2                             Heikkinen, Miss. Laina  female  26.0      0   \n",
       "3       Futrelle, Mrs. Jacques Heath (Lily May Peel)  female  35.0      1   \n",
       "4                           Allen, Mr. William Henry    male  35.0      0   \n",
       "\n",
       "   Parch            Ticket     Fare Cabin Embarked  \n",
       "0      0         A/5 21171   7.2500   NaN        S  \n",
       "1      0          PC 17599  71.2833   C85        C  \n",
       "2      0  STON/O2. 3101282   7.9250   NaN        S  \n",
       "3      0            113803  53.1000  C123        S  \n",
       "4      0            373450   8.0500   NaN        S  "
      ]
     },
     "execution_count": 3,
     "metadata": {},
     "output_type": "execute_result"
    }
   ],
   "source": [
    "train.head()"
   ]
  },
  {
   "cell_type": "code",
   "execution_count": 4,
   "metadata": {},
   "outputs": [
    {
     "data": {
      "text/plain": [
       "0                                Braund, Mr. Owen Harris\n",
       "1      Cumings, Mrs. John Bradley (Florence Briggs Th...\n",
       "2                                 Heikkinen, Miss. Laina\n",
       "3           Futrelle, Mrs. Jacques Heath (Lily May Peel)\n",
       "4                               Allen, Mr. William Henry\n",
       "5                                       Moran, Mr. James\n",
       "6                                McCarthy, Mr. Timothy J\n",
       "7                         Palsson, Master. Gosta Leonard\n",
       "8      Johnson, Mrs. Oscar W (Elisabeth Vilhelmina Berg)\n",
       "9                    Nasser, Mrs. Nicholas (Adele Achem)\n",
       "10                       Sandstrom, Miss. Marguerite Rut\n",
       "11                              Bonnell, Miss. Elizabeth\n",
       "12                        Saundercock, Mr. William Henry\n",
       "13                           Andersson, Mr. Anders Johan\n",
       "14                  Vestrom, Miss. Hulda Amanda Adolfina\n",
       "15                      Hewlett, Mrs. (Mary D Kingcome) \n",
       "16                                  Rice, Master. Eugene\n",
       "17                          Williams, Mr. Charles Eugene\n",
       "18     Vander Planke, Mrs. Julius (Emelia Maria Vande...\n",
       "19                               Masselmani, Mrs. Fatima\n",
       "20                                  Fynney, Mr. Joseph J\n",
       "21                                 Beesley, Mr. Lawrence\n",
       "22                           McGowan, Miss. Anna \"Annie\"\n",
       "23                          Sloper, Mr. William Thompson\n",
       "24                         Palsson, Miss. Torborg Danira\n",
       "25     Asplund, Mrs. Carl Oscar (Selma Augusta Emilia...\n",
       "26                               Emir, Mr. Farred Chehab\n",
       "27                        Fortune, Mr. Charles Alexander\n",
       "28                         O'Dwyer, Miss. Ellen \"Nellie\"\n",
       "29                                   Todoroff, Mr. Lalio\n",
       "                             ...                        \n",
       "861                          Giles, Mr. Frederick Edward\n",
       "862    Swift, Mrs. Frederick Joel (Margaret Welles Ba...\n",
       "863                    Sage, Miss. Dorothy Edith \"Dolly\"\n",
       "864                               Gill, Mr. John William\n",
       "865                             Bystrom, Mrs. (Karolina)\n",
       "866                         Duran y More, Miss. Asuncion\n",
       "867                 Roebling, Mr. Washington Augustus II\n",
       "868                          van Melkebeke, Mr. Philemon\n",
       "869                      Johnson, Master. Harold Theodor\n",
       "870                                    Balkic, Mr. Cerin\n",
       "871     Beckwith, Mrs. Richard Leonard (Sallie Monypeny)\n",
       "872                             Carlsson, Mr. Frans Olof\n",
       "873                          Vander Cruyssen, Mr. Victor\n",
       "874                Abelson, Mrs. Samuel (Hannah Wizosky)\n",
       "875                     Najib, Miss. Adele Kiamie \"Jane\"\n",
       "876                        Gustafsson, Mr. Alfred Ossian\n",
       "877                                 Petroff, Mr. Nedelio\n",
       "878                                   Laleff, Mr. Kristo\n",
       "879        Potter, Mrs. Thomas Jr (Lily Alexenia Wilson)\n",
       "880         Shelley, Mrs. William (Imanita Parrish Hall)\n",
       "881                                   Markun, Mr. Johann\n",
       "882                         Dahlberg, Miss. Gerda Ulrika\n",
       "883                        Banfield, Mr. Frederick James\n",
       "884                               Sutehall, Mr. Henry Jr\n",
       "885                 Rice, Mrs. William (Margaret Norton)\n",
       "886                                Montvila, Rev. Juozas\n",
       "887                         Graham, Miss. Margaret Edith\n",
       "888             Johnston, Miss. Catherine Helen \"Carrie\"\n",
       "889                                Behr, Mr. Karl Howell\n",
       "890                                  Dooley, Mr. Patrick\n",
       "Name: Name, Length: 891, dtype: object"
      ]
     },
     "execution_count": 4,
     "metadata": {},
     "output_type": "execute_result"
    }
   ],
   "source": [
    "train['Name'].str[0]"
   ]
  },
  {
   "cell_type": "code",
   "execution_count": null,
   "metadata": {},
   "outputs": [],
   "source": []
  },
  {
   "cell_type": "code",
   "execution_count": null,
   "metadata": {},
   "outputs": [],
   "source": []
  },
  {
   "cell_type": "code",
   "execution_count": null,
   "metadata": {},
   "outputs": [],
   "source": []
  },
  {
   "cell_type": "code",
   "execution_count": null,
   "metadata": {},
   "outputs": [],
   "source": []
  },
  {
   "cell_type": "code",
   "execution_count": null,
   "metadata": {},
   "outputs": [],
   "source": []
  },
  {
   "cell_type": "code",
   "execution_count": null,
   "metadata": {},
   "outputs": [],
   "source": []
  },
  {
   "cell_type": "code",
   "execution_count": 676,
   "metadata": {},
   "outputs": [
    {
     "name": "stdout",
     "output_type": "stream",
     "text": [
      "<class 'pandas.core.frame.DataFrame'>\n",
      "RangeIndex: 891 entries, 0 to 890\n",
      "Data columns (total 12 columns):\n",
      "PassengerId    891 non-null int64\n",
      "Survived       891 non-null int64\n",
      "Pclass         891 non-null int64\n",
      "Name           891 non-null object\n",
      "Sex            891 non-null object\n",
      "Age            714 non-null float64\n",
      "SibSp          891 non-null int64\n",
      "Parch          891 non-null int64\n",
      "Ticket         891 non-null object\n",
      "Fare           891 non-null float64\n",
      "Cabin          204 non-null object\n",
      "Embarked       889 non-null object\n",
      "dtypes: float64(2), int64(5), object(5)\n",
      "memory usage: 83.6+ KB\n"
     ]
    }
   ],
   "source": [
    "train.info()"
   ]
  },
  {
   "cell_type": "code",
   "execution_count": 677,
   "metadata": {},
   "outputs": [
    {
     "data": {
      "text/html": [
       "<div>\n",
       "<style scoped>\n",
       "    .dataframe tbody tr th:only-of-type {\n",
       "        vertical-align: middle;\n",
       "    }\n",
       "\n",
       "    .dataframe tbody tr th {\n",
       "        vertical-align: top;\n",
       "    }\n",
       "\n",
       "    .dataframe thead th {\n",
       "        text-align: right;\n",
       "    }\n",
       "</style>\n",
       "<table border=\"1\" class=\"dataframe\">\n",
       "  <thead>\n",
       "    <tr style=\"text-align: right;\">\n",
       "      <th></th>\n",
       "      <th>PassengerId</th>\n",
       "      <th>Survived</th>\n",
       "      <th>Pclass</th>\n",
       "      <th>Age</th>\n",
       "      <th>SibSp</th>\n",
       "      <th>Parch</th>\n",
       "      <th>Fare</th>\n",
       "    </tr>\n",
       "  </thead>\n",
       "  <tbody>\n",
       "    <tr>\n",
       "      <th>count</th>\n",
       "      <td>891.000000</td>\n",
       "      <td>891.000000</td>\n",
       "      <td>891.000000</td>\n",
       "      <td>714.000000</td>\n",
       "      <td>891.000000</td>\n",
       "      <td>891.000000</td>\n",
       "      <td>891.000000</td>\n",
       "    </tr>\n",
       "    <tr>\n",
       "      <th>mean</th>\n",
       "      <td>446.000000</td>\n",
       "      <td>0.383838</td>\n",
       "      <td>2.308642</td>\n",
       "      <td>29.699118</td>\n",
       "      <td>0.523008</td>\n",
       "      <td>0.381594</td>\n",
       "      <td>32.204208</td>\n",
       "    </tr>\n",
       "    <tr>\n",
       "      <th>std</th>\n",
       "      <td>257.353842</td>\n",
       "      <td>0.486592</td>\n",
       "      <td>0.836071</td>\n",
       "      <td>14.526497</td>\n",
       "      <td>1.102743</td>\n",
       "      <td>0.806057</td>\n",
       "      <td>49.693429</td>\n",
       "    </tr>\n",
       "    <tr>\n",
       "      <th>min</th>\n",
       "      <td>1.000000</td>\n",
       "      <td>0.000000</td>\n",
       "      <td>1.000000</td>\n",
       "      <td>0.420000</td>\n",
       "      <td>0.000000</td>\n",
       "      <td>0.000000</td>\n",
       "      <td>0.000000</td>\n",
       "    </tr>\n",
       "    <tr>\n",
       "      <th>25%</th>\n",
       "      <td>223.500000</td>\n",
       "      <td>0.000000</td>\n",
       "      <td>2.000000</td>\n",
       "      <td>20.125000</td>\n",
       "      <td>0.000000</td>\n",
       "      <td>0.000000</td>\n",
       "      <td>7.910400</td>\n",
       "    </tr>\n",
       "    <tr>\n",
       "      <th>50%</th>\n",
       "      <td>446.000000</td>\n",
       "      <td>0.000000</td>\n",
       "      <td>3.000000</td>\n",
       "      <td>28.000000</td>\n",
       "      <td>0.000000</td>\n",
       "      <td>0.000000</td>\n",
       "      <td>14.454200</td>\n",
       "    </tr>\n",
       "    <tr>\n",
       "      <th>75%</th>\n",
       "      <td>668.500000</td>\n",
       "      <td>1.000000</td>\n",
       "      <td>3.000000</td>\n",
       "      <td>38.000000</td>\n",
       "      <td>1.000000</td>\n",
       "      <td>0.000000</td>\n",
       "      <td>31.000000</td>\n",
       "    </tr>\n",
       "    <tr>\n",
       "      <th>max</th>\n",
       "      <td>891.000000</td>\n",
       "      <td>1.000000</td>\n",
       "      <td>3.000000</td>\n",
       "      <td>80.000000</td>\n",
       "      <td>8.000000</td>\n",
       "      <td>6.000000</td>\n",
       "      <td>512.329200</td>\n",
       "    </tr>\n",
       "  </tbody>\n",
       "</table>\n",
       "</div>"
      ],
      "text/plain": [
       "       PassengerId    Survived      Pclass         Age       SibSp  \\\n",
       "count   891.000000  891.000000  891.000000  714.000000  891.000000   \n",
       "mean    446.000000    0.383838    2.308642   29.699118    0.523008   \n",
       "std     257.353842    0.486592    0.836071   14.526497    1.102743   \n",
       "min       1.000000    0.000000    1.000000    0.420000    0.000000   \n",
       "25%     223.500000    0.000000    2.000000   20.125000    0.000000   \n",
       "50%     446.000000    0.000000    3.000000   28.000000    0.000000   \n",
       "75%     668.500000    1.000000    3.000000   38.000000    1.000000   \n",
       "max     891.000000    1.000000    3.000000   80.000000    8.000000   \n",
       "\n",
       "            Parch        Fare  \n",
       "count  891.000000  891.000000  \n",
       "mean     0.381594   32.204208  \n",
       "std      0.806057   49.693429  \n",
       "min      0.000000    0.000000  \n",
       "25%      0.000000    7.910400  \n",
       "50%      0.000000   14.454200  \n",
       "75%      0.000000   31.000000  \n",
       "max      6.000000  512.329200  "
      ]
     },
     "execution_count": 677,
     "metadata": {},
     "output_type": "execute_result"
    }
   ],
   "source": [
    "train.describe()"
   ]
  },
  {
   "cell_type": "code",
   "execution_count": 678,
   "metadata": {},
   "outputs": [
    {
     "data": {
      "text/plain": [
       "<matplotlib.axes._subplots.AxesSubplot at 0x282d4b1ccf8>"
      ]
     },
     "execution_count": 678,
     "metadata": {},
     "output_type": "execute_result"
    },
    {
     "data": {
      "image/png": "[encoded data removed]",
      "text/plain": [
       "<matplotlib.figure.Figure at 0x282d4af2a90>"
      ]
     },
     "metadata": {},
     "output_type": "display_data"
    }
   ],
   "source": [
    "sns.countplot(train['Survived'])"
   ]
  },
  {
   "cell_type": "code",
   "execution_count": 679,
   "metadata": {},
   "outputs": [
    {
     "data": {
      "text/plain": [
       "<matplotlib.axes._subplots.AxesSubplot at 0x282d4b464a8>"
      ]
     },
     "execution_count": 679,
     "metadata": {},
     "output_type": "execute_result"
    },
    {
     "data": {
      "image/png": "[encoded data removed]",
      "text/plain": [
       "<matplotlib.figure.Figure at 0x282d4b00b38>"
      ]
     },
     "metadata": {},
     "output_type": "display_data"
    }
   ],
   "source": [
    "sns.countplot(train['Pclass'])"
   ]
  },
  {
   "cell_type": "code",
   "execution_count": 680,
   "metadata": {},
   "outputs": [
    {
     "data": {
      "text/plain": [
       "<matplotlib.axes._subplots.AxesSubplot at 0x282d4b528d0>"
      ]
     },
     "execution_count": 680,
     "metadata": {},
     "output_type": "execute_result"
    },
    {
     "data": {
      "image/png": "[encoded data removed]",
      "text/plain": [
       "<matplotlib.figure.Figure at 0x282d4af4e48>"
      ]
     },
     "metadata": {},
     "output_type": "display_data"
    }
   ],
   "source": [
    "sns.countplot(train['Pclass'], hue=train['Survived'])"
   ]
  },
  {
   "cell_type": "code",
   "execution_count": 681,
   "metadata": {},
   "outputs": [
    {
     "data": {
      "text/plain": [
       "<matplotlib.axes._subplots.AxesSubplot at 0x282d4be3240>"
      ]
     },
     "execution_count": 681,
     "metadata": {},
     "output_type": "execute_result"
    },
    {
     "data": {
      "image/png": "[encoded data removed]",
      "text/plain": [
       "<matplotlib.figure.Figure at 0x282d4b24860>"
      ]
     },
     "metadata": {},
     "output_type": "display_data"
    }
   ],
   "source": [
    "sns.countplot(train['Sex'])"
   ]
  },
  {
   "cell_type": "code",
   "execution_count": 682,
   "metadata": {},
   "outputs": [
    {
     "data": {
      "text/plain": [
       "<matplotlib.axes._subplots.AxesSubplot at 0x282d4c3d780>"
      ]
     },
     "execution_count": 682,
     "metadata": {},
     "output_type": "execute_result"
    },
    {
     "data": {
      "image/png": "[encoded data removed]",
      "text/plain": [
       "<matplotlib.figure.Figure at 0x282d4bbd5f8>"
      ]
     },
     "metadata": {},
     "output_type": "display_data"
    }
   ],
   "source": [
    "sns.countplot(train['Sex'], hue=train['Survived'])"
   ]
  },
  {
   "cell_type": "code",
   "execution_count": 683,
   "metadata": {},
   "outputs": [
    {
     "data": {
      "text/plain": [
       "<matplotlib.axes._subplots.AxesSubplot at 0x282d4a59898>"
      ]
     },
     "execution_count": 683,
     "metadata": {},
     "output_type": "execute_result"
    },
    {
     "data": {
      "image/png": "[encoded data removed]",
      "text/plain": [
       "<matplotlib.figure.Figure at 0x282d4c56f60>"
      ]
     },
     "metadata": {},
     "output_type": "display_data"
    }
   ],
   "source": [
    "sns.distplot(train['Age'].dropna(), kde=False, bins=100)"
   ]
  },
  {
   "cell_type": "code",
   "execution_count": 684,
   "metadata": {},
   "outputs": [
    {
     "data": {
      "image/png": "[encoded data removed]",
      "text/plain": [
       "<matplotlib.figure.Figure at 0x282d4d022b0>"
      ]
     },
     "metadata": {},
     "output_type": "display_data"
    }
   ],
   "source": [
    "age = train[['Age', 'Survived']].dropna()\n",
    "g = sns.FacetGrid(age, col='Survived')\n",
    "g = g.map(plt.hist, 'Age')"
   ]
  },
  {
   "cell_type": "code",
   "execution_count": 685,
   "metadata": {},
   "outputs": [
    {
     "data": {
      "text/plain": [
       "0    608\n",
       "1    209\n",
       "2     28\n",
       "4     18\n",
       "3     16\n",
       "8      7\n",
       "5      5\n",
       "Name: SibSp, dtype: int64"
      ]
     },
     "execution_count": 685,
     "metadata": {},
     "output_type": "execute_result"
    }
   ],
   "source": [
    "train['SibSp'].value_counts()"
   ]
  },
  {
   "cell_type": "code",
   "execution_count": 686,
   "metadata": {},
   "outputs": [
    {
     "data": {
      "text/plain": [
       "<matplotlib.axes._subplots.AxesSubplot at 0x282d63e14a8>"
      ]
     },
     "execution_count": 686,
     "metadata": {},
     "output_type": "execute_result"
    },
    {
     "data": {
      "image/png": "[encoded data removed]",
      "text/plain": [
       "<matplotlib.figure.Figure at 0x282d63975f8>"
      ]
     },
     "metadata": {},
     "output_type": "display_data"
    }
   ],
   "source": [
    "sns.countplot(train['SibSp'])"
   ]
  },
  {
   "cell_type": "code",
   "execution_count": 687,
   "metadata": {},
   "outputs": [
    {
     "data": {
      "text/plain": [
       "<matplotlib.axes._subplots.AxesSubplot at 0x282d64abeb8>"
      ]
     },
     "execution_count": 687,
     "metadata": {},
     "output_type": "execute_result"
    },
    {
     "data": {
      "image/png": "[encoded data removed]",
      "text/plain": [
       "<matplotlib.figure.Figure at 0x282d6499dd8>"
      ]
     },
     "metadata": {},
     "output_type": "display_data"
    }
   ],
   "source": [
    "sns.countplot(train['SibSp'], hue=train['Survived'])"
   ]
  },
  {
   "cell_type": "code",
   "execution_count": 688,
   "metadata": {},
   "outputs": [
    {
     "data": {
      "text/plain": [
       "<matplotlib.axes._subplots.AxesSubplot at 0x282d648ef98>"
      ]
     },
     "execution_count": 688,
     "metadata": {},
     "output_type": "execute_result"
    },
    {
     "data": {
      "image/png": "[encoded data removed]",
      "text/plain": [
       "<matplotlib.figure.Figure at 0x282d493aef0>"
      ]
     },
     "metadata": {},
     "output_type": "display_data"
    }
   ],
   "source": [
    "sns.countplot(train['Parch'])"
   ]
  },
  {
   "cell_type": "code",
   "execution_count": 689,
   "metadata": {},
   "outputs": [
    {
     "data": {
      "text/plain": [
       "<matplotlib.axes._subplots.AxesSubplot at 0x282d6590c50>"
      ]
     },
     "execution_count": 689,
     "metadata": {},
     "output_type": "execute_result"
    },
    {
     "data": {
      "image/png": "[encoded data removed]",
      "text/plain": [
       "<matplotlib.figure.Figure at 0x282d657e710>"
      ]
     },
     "metadata": {},
     "output_type": "display_data"
    }
   ],
   "source": [
    "sns.countplot(train['Parch'], hue=train['Survived'])"
   ]
  },
  {
   "cell_type": "code",
   "execution_count": 690,
   "metadata": {},
   "outputs": [
    {
     "data": {
      "text/plain": [
       "681"
      ]
     },
     "execution_count": 690,
     "metadata": {},
     "output_type": "execute_result"
    }
   ],
   "source": [
    "train['Ticket'].nunique()"
   ]
  },
  {
   "cell_type": "code",
   "execution_count": 691,
   "metadata": {},
   "outputs": [
    {
     "data": {
      "text/plain": [
       "<matplotlib.axes._subplots.AxesSubplot at 0x282d65fa588>"
      ]
     },
     "execution_count": 691,
     "metadata": {},
     "output_type": "execute_result"
    },
    {
     "data": {
      "image/png": "[encoded data removed]",
      "text/plain": [
       "<matplotlib.figure.Figure at 0x282d65fa550>"
      ]
     },
     "metadata": {},
     "output_type": "display_data"
    }
   ],
   "source": [
    "plt.figure(figsize=(10,10))\n",
    "sns.distplot(train['Fare'], kde=False)"
   ]
  },
  {
   "cell_type": "code",
   "execution_count": 692,
   "metadata": {},
   "outputs": [
    {
     "data": {
      "image/png": "[encoded data removed]",
      "text/plain": [
       "<matplotlib.figure.Figure at 0x282d667c2b0>"
      ]
     },
     "metadata": {},
     "output_type": "display_data"
    }
   ],
   "source": [
    "age = train[['Fare', 'Survived']].dropna()\n",
    "g = sns.FacetGrid(age, col='Survived')\n",
    "g = g.map(sns.distplot, 'Fare', kde=False)"
   ]
  },
  {
   "cell_type": "code",
   "execution_count": 693,
   "metadata": {},
   "outputs": [
    {
     "data": {
      "text/plain": [
       "<matplotlib.axes._subplots.AxesSubplot at 0x282d67df160>"
      ]
     },
     "execution_count": 693,
     "metadata": {},
     "output_type": "execute_result"
    },
    {
     "data": {
      "image/png": "[encoded data removed]",
      "text/plain": [
       "<matplotlib.figure.Figure at 0x282d67437b8>"
      ]
     },
     "metadata": {},
     "output_type": "display_data"
    }
   ],
   "source": [
    "sns.countplot(train['Embarked'])"
   ]
  },
  {
   "cell_type": "code",
   "execution_count": 694,
   "metadata": {},
   "outputs": [
    {
     "data": {
      "text/plain": [
       "<matplotlib.axes._subplots.AxesSubplot at 0x282d6896be0>"
      ]
     },
     "execution_count": 694,
     "metadata": {},
     "output_type": "execute_result"
    },
    {
     "data": {
      "image/png": "[encoded data removed]",
      "text/plain": [
       "<matplotlib.figure.Figure at 0x282d68ca358>"
      ]
     },
     "metadata": {},
     "output_type": "display_data"
    }
   ],
   "source": [
    "sns.countplot(train['Embarked'], hue=train['Survived'])"
   ]
  },
  {
   "cell_type": "code",
   "execution_count": 695,
   "metadata": {},
   "outputs": [
    {
     "data": {
      "text/plain": [
       "<matplotlib.axes._subplots.AxesSubplot at 0x282d684be10>"
      ]
     },
     "execution_count": 695,
     "metadata": {},
     "output_type": "execute_result"
    },
    {
     "data": {
      "image/png": "[encoded data removed]",
      "text/plain": [
       "<matplotlib.figure.Figure at 0x282d68d3dd8>"
      ]
     },
     "metadata": {},
     "output_type": "display_data"
    }
   ],
   "source": [
    "plt.figure(figsize=(15, 20))\n",
    "sns.heatmap(train.isnull(), cbar=False, yticklabels=False, cmap='terrain')"
   ]
  },
  {
   "cell_type": "code",
   "execution_count": 696,
   "metadata": {},
   "outputs": [
    {
     "data": {
      "text/plain": [
       "<matplotlib.axes._subplots.AxesSubplot at 0x282d63db5c0>"
      ]
     },
     "execution_count": 696,
     "metadata": {},
     "output_type": "execute_result"
    },
    {
     "data": {
      "image/png": "[encoded data removed]",
      "text/plain": [
       "<matplotlib.figure.Figure at 0x282d6b06438>"
      ]
     },
     "metadata": {},
     "output_type": "display_data"
    }
   ],
   "source": [
    "plt.figure(figsize=(15, 20))\n",
    "sns.heatmap(test.isnull(), cbar=False, yticklabels=False, cmap='terrain')"
   ]
  },
  {
   "cell_type": "code",
   "execution_count": 697,
   "metadata": {},
   "outputs": [],
   "source": [
    "# combine data from preprocessing\n",
    "data = [train, test]"
   ]
  },
  {
   "cell_type": "code",
   "execution_count": 698,
   "metadata": {},
   "outputs": [],
   "source": [
    "# check if age is co-related with any other parameters"
   ]
  },
  {
   "cell_type": "code",
   "execution_count": 699,
   "metadata": {},
   "outputs": [],
   "source": [
    "age = train[train['Age'].notnull()]"
   ]
  },
  {
   "cell_type": "code",
   "execution_count": 700,
   "metadata": {},
   "outputs": [
    {
     "data": {
      "text/plain": [
       "<matplotlib.axes._subplots.AxesSubplot at 0x282d6b425c0>"
      ]
     },
     "execution_count": 700,
     "metadata": {},
     "output_type": "execute_result"
    },
    {
     "data": {
      "image/png": "[encoded data removed]",
      "text/plain": [
       "<matplotlib.figure.Figure at 0x282d68bce10>"
      ]
     },
     "metadata": {},
     "output_type": "display_data"
    }
   ],
   "source": [
    "sns.boxplot(x='Pclass', y='Age', data=age)"
   ]
  },
  {
   "cell_type": "code",
   "execution_count": 701,
   "metadata": {},
   "outputs": [
    {
     "data": {
      "text/plain": [
       "<matplotlib.axes._subplots.AxesSubplot at 0x282d6fce7f0>"
      ]
     },
     "execution_count": 701,
     "metadata": {},
     "output_type": "execute_result"
    },
    {
     "data": {
      "image/png": "[encoded data removed]",
      "text/plain": [
       "<matplotlib.figure.Figure at 0x282d6bb9400>"
      ]
     },
     "metadata": {},
     "output_type": "display_data"
    }
   ],
   "source": [
    "sns.boxplot(x='Sex', y='Age', data=age)"
   ]
  },
  {
   "cell_type": "code",
   "execution_count": 702,
   "metadata": {},
   "outputs": [
    {
     "data": {
      "text/plain": [
       "<matplotlib.axes._subplots.AxesSubplot at 0x282d7050a90>"
      ]
     },
     "execution_count": 702,
     "metadata": {},
     "output_type": "execute_result"
    },
    {
     "data": {
      "image/png": "[encoded data removed]",
      "text/plain": [
       "<matplotlib.figure.Figure at 0x282d705a0f0>"
      ]
     },
     "metadata": {},
     "output_type": "display_data"
    }
   ],
   "source": [
    "sns.boxplot(x='SibSp', y='Age', data=age)"
   ]
  },
  {
   "cell_type": "code",
   "execution_count": 703,
   "metadata": {},
   "outputs": [
    {
     "data": {
      "text/plain": [
       "<matplotlib.axes._subplots.AxesSubplot at 0x282d7119128>"
      ]
     },
     "execution_count": 703,
     "metadata": {},
     "output_type": "execute_result"
    },
    {
     "data": {
      "image/png": "[encoded data removed]",
      "text/plain": [
       "<matplotlib.figure.Figure at 0x282d6841c50>"
      ]
     },
     "metadata": {},
     "output_type": "display_data"
    }
   ],
   "source": [
    "sns.boxplot(x='Parch', y='Age', data=age)"
   ]
  },
  {
   "cell_type": "code",
   "execution_count": 704,
   "metadata": {},
   "outputs": [
    {
     "data": {
      "text/plain": [
       "<matplotlib.collections.PathCollection at 0x282d85ccac8>"
      ]
     },
     "execution_count": 704,
     "metadata": {},
     "output_type": "execute_result"
    },
    {
     "data": {
      "image/png": "[encoded data removed]",
      "text/plain": [
       "<matplotlib.figure.Figure at 0x282d713dba8>"
      ]
     },
     "metadata": {},
     "output_type": "display_data"
    }
   ],
   "source": [
    "plt.scatter(age['Age'], age['Fare'])"
   ]
  },
  {
   "cell_type": "code",
   "execution_count": 705,
   "metadata": {},
   "outputs": [
    {
     "data": {
      "text/plain": [
       "<matplotlib.axes._subplots.AxesSubplot at 0x282d85d4ba8>"
      ]
     },
     "execution_count": 705,
     "metadata": {},
     "output_type": "execute_result"
    },
    {
     "data": {
      "image/png": "[encoded data removed]",
      "text/plain": [
       "<matplotlib.figure.Figure at 0x282d7593cc0>"
      ]
     },
     "metadata": {},
     "output_type": "display_data"
    }
   ],
   "source": [
    "sns.boxplot(x='Embarked', y='Age', data=age)"
   ]
  },
  {
   "cell_type": "code",
   "execution_count": 706,
   "metadata": {},
   "outputs": [],
   "source": [
    "# Impute missing age values using Pclass\n",
    "for dt in data:\n",
    "    avg_age_by_class = dt.groupby('Pclass')['Age'].mean()\n",
    "    dt.loc[dt['Age'].isnull(), 'Age'] = dt['Pclass'].apply(lambda x: avg_age_by_class[x])"
   ]
  },
  {
   "cell_type": "code",
   "execution_count": 707,
   "metadata": {},
   "outputs": [
    {
     "data": {
      "text/plain": [
       "<matplotlib.axes._subplots.AxesSubplot at 0x282d4afcc50>"
      ]
     },
     "execution_count": 707,
     "metadata": {},
     "output_type": "execute_result"
    },
    {
     "data": {
      "image/png": "[encoded data removed]",
      "text/plain": [
       "<matplotlib.figure.Figure at 0x282d85e9f60>"
      ]
     },
     "metadata": {},
     "output_type": "display_data"
    }
   ],
   "source": [
    "plt.figure(figsize=(15, 20))\n",
    "sns.heatmap(data[0].isnull(), cbar=False, yticklabels=False, cmap='terrain')"
   ]
  },
  {
   "cell_type": "code",
   "execution_count": 708,
   "metadata": {},
   "outputs": [],
   "source": [
    "# drop useless columns\n",
    "for dt in data:\n",
    "    dt.drop(['Cabin', 'PassengerId', 'Ticket'], axis=1, inplace=True)"
   ]
  },
  {
   "cell_type": "code",
   "execution_count": 709,
   "metadata": {},
   "outputs": [
    {
     "name": "stdout",
     "output_type": "stream",
     "text": [
      "Survived    0\n",
      "Pclass      0\n",
      "Name        0\n",
      "Sex         0\n",
      "Age         0\n",
      "SibSp       0\n",
      "Parch       0\n",
      "Fare        0\n",
      "Embarked    2\n",
      "dtype: int64\n",
      "Pclass      0\n",
      "Name        0\n",
      "Sex         0\n",
      "Age         0\n",
      "SibSp       0\n",
      "Parch       0\n",
      "Fare        1\n",
      "Embarked    0\n",
      "dtype: int64\n"
     ]
    }
   ],
   "source": [
    "for dt in data:\n",
    "    print(dt.isnull().sum())"
   ]
  },
  {
   "cell_type": "code",
   "execution_count": 710,
   "metadata": {},
   "outputs": [],
   "source": [
    "# delete rows with missing values in training set\n",
    "data[0].dropna(inplace=True)"
   ]
  },
  {
   "cell_type": "code",
   "execution_count": 712,
   "metadata": {},
   "outputs": [
    {
     "data": {
      "text/html": [
       "<div>\n",
       "<style scoped>\n",
       "    .dataframe tbody tr th:only-of-type {\n",
       "        vertical-align: middle;\n",
       "    }\n",
       "\n",
       "    .dataframe tbody tr th {\n",
       "        vertical-align: top;\n",
       "    }\n",
       "\n",
       "    .dataframe thead th {\n",
       "        text-align: right;\n",
       "    }\n",
       "</style>\n",
       "<table border=\"1\" class=\"dataframe\">\n",
       "  <thead>\n",
       "    <tr style=\"text-align: right;\">\n",
       "      <th></th>\n",
       "      <th>Pclass</th>\n",
       "      <th>Name</th>\n",
       "      <th>Sex</th>\n",
       "      <th>Age</th>\n",
       "      <th>SibSp</th>\n",
       "      <th>Parch</th>\n",
       "      <th>Fare</th>\n",
       "      <th>Embarked</th>\n",
       "    </tr>\n",
       "  </thead>\n",
       "  <tbody>\n",
       "    <tr>\n",
       "      <th>152</th>\n",
       "      <td>3</td>\n",
       "      <td>Storey, Mr. Thomas</td>\n",
       "      <td>male</td>\n",
       "      <td>60.5</td>\n",
       "      <td>0</td>\n",
       "      <td>0</td>\n",
       "      <td>NaN</td>\n",
       "      <td>S</td>\n",
       "    </tr>\n",
       "  </tbody>\n",
       "</table>\n",
       "</div>"
      ],
      "text/plain": [
       "     Pclass                Name   Sex   Age  SibSp  Parch  Fare Embarked\n",
       "152       3  Storey, Mr. Thomas  male  60.5      0      0   NaN        S"
      ]
     },
     "execution_count": 712,
     "metadata": {},
     "output_type": "execute_result"
    }
   ],
   "source": [
    "# fill missing values in testing set\n",
    "data[1][data[1]['Fare'].isnull()]"
   ]
  },
  {
   "cell_type": "code",
   "execution_count": 713,
   "metadata": {},
   "outputs": [
    {
     "data": {
      "text/plain": [
       "Pclass  Embarked\n",
       "1       C           104.718529\n",
       "        Q            90.000000\n",
       "        S            70.364862\n",
       "2       C            25.358335\n",
       "        Q            12.350000\n",
       "        S            20.327439\n",
       "3       C            11.214083\n",
       "        Q            11.183393\n",
       "        S            14.644083\n",
       "Name: Fare, dtype: float64"
      ]
     },
     "execution_count": 713,
     "metadata": {},
     "output_type": "execute_result"
    }
   ],
   "source": [
    "data[0].groupby(['Pclass', 'Embarked'])['Fare'].mean()"
   ]
  },
  {
   "cell_type": "code",
   "execution_count": null,
   "metadata": {},
   "outputs": [],
   "source": [
    "data[1].loc[data[1]['Fare'].isnull(), 'Fare'] = 14.644083"
   ]
  },
  {
   "cell_type": "code",
   "execution_count": 719,
   "metadata": {},
   "outputs": [
    {
     "data": {
      "text/plain": [
       "Pclass      0\n",
       "Name        0\n",
       "Sex         0\n",
       "Age         0\n",
       "SibSp       0\n",
       "Parch       0\n",
       "Fare        0\n",
       "Embarked    0\n",
       "dtype: int64"
      ]
     },
     "execution_count": 719,
     "metadata": {},
     "output_type": "execute_result"
    }
   ],
   "source": [
    "data[1][data[1]['Fare'].isnull()].count()"
   ]
  },
  {
   "cell_type": "code",
   "execution_count": 711,
   "metadata": {},
   "outputs": [
    {
     "name": "stdout",
     "output_type": "stream",
     "text": [
      "Survived    0\n",
      "Pclass      0\n",
      "Name        0\n",
      "Sex         0\n",
      "Age         0\n",
      "SibSp       0\n",
      "Parch       0\n",
      "Fare        0\n",
      "Embarked    0\n",
      "dtype: int64\n",
      "Pclass      0\n",
      "Name        0\n",
      "Sex         0\n",
      "Age         0\n",
      "SibSp       0\n",
      "Parch       0\n",
      "Fare        1\n",
      "Embarked    0\n",
      "dtype: int64\n"
     ]
    }
   ],
   "source": [
    "for dt in data:\n",
    "    print(dt.isnull().sum())"
   ]
  },
  {
   "cell_type": "markdown",
   "metadata": {},
   "source": [
    "# Extract titles from names"
   ]
  },
  {
   "cell_type": "code",
   "execution_count": 639,
   "metadata": {},
   "outputs": [],
   "source": [
    "for i in range(len(data)):\n",
    "    data[i]['Title'] = data[i]['Name'].apply(lambda x: x.split(',')[1].strip().split(' ')[0])\n",
    "    data[i].drop('Name', axis=1, inplace=True)"
   ]
  },
  {
   "cell_type": "code",
   "execution_count": 640,
   "metadata": {},
   "outputs": [
    {
     "data": {
      "text/html": [
       "<div>\n",
       "<style scoped>\n",
       "    .dataframe tbody tr th:only-of-type {\n",
       "        vertical-align: middle;\n",
       "    }\n",
       "\n",
       "    .dataframe tbody tr th {\n",
       "        vertical-align: top;\n",
       "    }\n",
       "\n",
       "    .dataframe thead th {\n",
       "        text-align: right;\n",
       "    }\n",
       "</style>\n",
       "<table border=\"1\" class=\"dataframe\">\n",
       "  <thead>\n",
       "    <tr style=\"text-align: right;\">\n",
       "      <th></th>\n",
       "      <th>Survived</th>\n",
       "      <th>Pclass</th>\n",
       "      <th>Sex</th>\n",
       "      <th>Age</th>\n",
       "      <th>SibSp</th>\n",
       "      <th>Parch</th>\n",
       "      <th>Fare</th>\n",
       "      <th>Embarked</th>\n",
       "      <th>Title</th>\n",
       "    </tr>\n",
       "  </thead>\n",
       "  <tbody>\n",
       "    <tr>\n",
       "      <th>0</th>\n",
       "      <td>0</td>\n",
       "      <td>3</td>\n",
       "      <td>male</td>\n",
       "      <td>22.0</td>\n",
       "      <td>1</td>\n",
       "      <td>0</td>\n",
       "      <td>7.2500</td>\n",
       "      <td>S</td>\n",
       "      <td>Mr.</td>\n",
       "    </tr>\n",
       "    <tr>\n",
       "      <th>1</th>\n",
       "      <td>1</td>\n",
       "      <td>1</td>\n",
       "      <td>female</td>\n",
       "      <td>38.0</td>\n",
       "      <td>1</td>\n",
       "      <td>0</td>\n",
       "      <td>71.2833</td>\n",
       "      <td>C</td>\n",
       "      <td>Mrs.</td>\n",
       "    </tr>\n",
       "    <tr>\n",
       "      <th>2</th>\n",
       "      <td>1</td>\n",
       "      <td>3</td>\n",
       "      <td>female</td>\n",
       "      <td>26.0</td>\n",
       "      <td>0</td>\n",
       "      <td>0</td>\n",
       "      <td>7.9250</td>\n",
       "      <td>S</td>\n",
       "      <td>Miss.</td>\n",
       "    </tr>\n",
       "    <tr>\n",
       "      <th>3</th>\n",
       "      <td>1</td>\n",
       "      <td>1</td>\n",
       "      <td>female</td>\n",
       "      <td>35.0</td>\n",
       "      <td>1</td>\n",
       "      <td>0</td>\n",
       "      <td>53.1000</td>\n",
       "      <td>S</td>\n",
       "      <td>Mrs.</td>\n",
       "    </tr>\n",
       "    <tr>\n",
       "      <th>4</th>\n",
       "      <td>0</td>\n",
       "      <td>3</td>\n",
       "      <td>male</td>\n",
       "      <td>35.0</td>\n",
       "      <td>0</td>\n",
       "      <td>0</td>\n",
       "      <td>8.0500</td>\n",
       "      <td>S</td>\n",
       "      <td>Mr.</td>\n",
       "    </tr>\n",
       "  </tbody>\n",
       "</table>\n",
       "</div>"
      ],
      "text/plain": [
       "   Survived  Pclass     Sex   Age  SibSp  Parch     Fare Embarked  Title\n",
       "0         0       3    male  22.0      1      0   7.2500        S    Mr.\n",
       "1         1       1  female  38.0      1      0  71.2833        C   Mrs.\n",
       "2         1       3  female  26.0      0      0   7.9250        S  Miss.\n",
       "3         1       1  female  35.0      1      0  53.1000        S   Mrs.\n",
       "4         0       3    male  35.0      0      0   8.0500        S    Mr."
      ]
     },
     "execution_count": 640,
     "metadata": {},
     "output_type": "execute_result"
    }
   ],
   "source": [
    "data[0].head()"
   ]
  },
  {
   "cell_type": "code",
   "execution_count": 641,
   "metadata": {},
   "outputs": [
    {
     "data": {
      "text/plain": [
       "Mr.          517\n",
       "Miss.        182\n",
       "Mrs.         125\n",
       "Master.       40\n",
       "Dr.            7\n",
       "Rev.           6\n",
       "Major.         2\n",
       "Col.           2\n",
       "Mlle.          2\n",
       "the            1\n",
       "Jonkheer.      1\n",
       "Don.           1\n",
       "Ms.            1\n",
       "Sir.           1\n",
       "Lady.          1\n",
       "Mme.           1\n",
       "Capt.          1\n",
       "Name: Title, dtype: int64"
      ]
     },
     "execution_count": 641,
     "metadata": {},
     "output_type": "execute_result"
    }
   ],
   "source": [
    "data[0]['Title'].value_counts()"
   ]
  },
  {
   "cell_type": "code",
   "execution_count": 642,
   "metadata": {},
   "outputs": [
    {
     "data": {
      "text/plain": [
       "<matplotlib.axes._subplots.AxesSubplot at 0x282d49cbba8>"
      ]
     },
     "execution_count": 642,
     "metadata": {},
     "output_type": "execute_result"
    },
    {
     "data": {
      "image/png": "[encoded data removed]",
      "text/plain": [
       "<matplotlib.figure.Figure at 0x282d162c860>"
      ]
     },
     "metadata": {},
     "output_type": "display_data"
    }
   ],
   "source": [
    "plt.figure(figsize=(15, 10))\n",
    "sns.countplot(data[0]['Title'], hue=data[0]['Survived'])"
   ]
  },
  {
   "cell_type": "code",
   "execution_count": 643,
   "metadata": {},
   "outputs": [
    {
     "data": {
      "text/html": [
       "<div>\n",
       "<style scoped>\n",
       "    .dataframe tbody tr th:only-of-type {\n",
       "        vertical-align: middle;\n",
       "    }\n",
       "\n",
       "    .dataframe tbody tr th {\n",
       "        vertical-align: top;\n",
       "    }\n",
       "\n",
       "    .dataframe thead th {\n",
       "        text-align: right;\n",
       "    }\n",
       "</style>\n",
       "<table border=\"1\" class=\"dataframe\">\n",
       "  <thead>\n",
       "    <tr style=\"text-align: right;\">\n",
       "      <th></th>\n",
       "      <th>count</th>\n",
       "      <th>mean</th>\n",
       "    </tr>\n",
       "    <tr>\n",
       "      <th>Title</th>\n",
       "      <th></th>\n",
       "      <th></th>\n",
       "    </tr>\n",
       "  </thead>\n",
       "  <tbody>\n",
       "    <tr>\n",
       "      <th>Capt.</th>\n",
       "      <td>1</td>\n",
       "      <td>70.000000</td>\n",
       "    </tr>\n",
       "    <tr>\n",
       "      <th>Col.</th>\n",
       "      <td>2</td>\n",
       "      <td>58.000000</td>\n",
       "    </tr>\n",
       "    <tr>\n",
       "      <th>Don.</th>\n",
       "      <td>1</td>\n",
       "      <td>40.000000</td>\n",
       "    </tr>\n",
       "    <tr>\n",
       "      <th>Dr.</th>\n",
       "      <td>7</td>\n",
       "      <td>41.461920</td>\n",
       "    </tr>\n",
       "    <tr>\n",
       "      <th>Jonkheer.</th>\n",
       "      <td>1</td>\n",
       "      <td>38.000000</td>\n",
       "    </tr>\n",
       "    <tr>\n",
       "      <th>Lady.</th>\n",
       "      <td>1</td>\n",
       "      <td>48.000000</td>\n",
       "    </tr>\n",
       "    <tr>\n",
       "      <th>Major.</th>\n",
       "      <td>2</td>\n",
       "      <td>48.500000</td>\n",
       "    </tr>\n",
       "    <tr>\n",
       "      <th>Master.</th>\n",
       "      <td>40</td>\n",
       "      <td>6.630812</td>\n",
       "    </tr>\n",
       "    <tr>\n",
       "      <th>Miss.</th>\n",
       "      <td>182</td>\n",
       "      <td>22.563896</td>\n",
       "    </tr>\n",
       "    <tr>\n",
       "      <th>Mlle.</th>\n",
       "      <td>2</td>\n",
       "      <td>24.000000</td>\n",
       "    </tr>\n",
       "    <tr>\n",
       "      <th>Mme.</th>\n",
       "      <td>1</td>\n",
       "      <td>24.000000</td>\n",
       "    </tr>\n",
       "    <tr>\n",
       "      <th>Mr.</th>\n",
       "      <td>517</td>\n",
       "      <td>31.293469</td>\n",
       "    </tr>\n",
       "    <tr>\n",
       "      <th>Mrs.</th>\n",
       "      <td>125</td>\n",
       "      <td>35.273065</td>\n",
       "    </tr>\n",
       "    <tr>\n",
       "      <th>Ms.</th>\n",
       "      <td>1</td>\n",
       "      <td>28.000000</td>\n",
       "    </tr>\n",
       "    <tr>\n",
       "      <th>Rev.</th>\n",
       "      <td>6</td>\n",
       "      <td>43.166667</td>\n",
       "    </tr>\n",
       "    <tr>\n",
       "      <th>Sir.</th>\n",
       "      <td>1</td>\n",
       "      <td>49.000000</td>\n",
       "    </tr>\n",
       "    <tr>\n",
       "      <th>the</th>\n",
       "      <td>1</td>\n",
       "      <td>33.000000</td>\n",
       "    </tr>\n",
       "  </tbody>\n",
       "</table>\n",
       "</div>"
      ],
      "text/plain": [
       "           count       mean\n",
       "Title                      \n",
       "Capt.          1  70.000000\n",
       "Col.           2  58.000000\n",
       "Don.           1  40.000000\n",
       "Dr.            7  41.461920\n",
       "Jonkheer.      1  38.000000\n",
       "Lady.          1  48.000000\n",
       "Major.         2  48.500000\n",
       "Master.       40   6.630812\n",
       "Miss.        182  22.563896\n",
       "Mlle.          2  24.000000\n",
       "Mme.           1  24.000000\n",
       "Mr.          517  31.293469\n",
       "Mrs.         125  35.273065\n",
       "Ms.            1  28.000000\n",
       "Rev.           6  43.166667\n",
       "Sir.           1  49.000000\n",
       "the            1  33.000000"
      ]
     },
     "execution_count": 643,
     "metadata": {},
     "output_type": "execute_result"
    }
   ],
   "source": [
    "data[0].groupby('Title')['Age'].agg(['count', 'mean'])"
   ]
  },
  {
   "cell_type": "markdown",
   "metadata": {},
   "source": [
    "# Convert categorical features into dummy variables"
   ]
  },
  {
   "cell_type": "code",
   "execution_count": 644,
   "metadata": {},
   "outputs": [],
   "source": [
    "for col_name in ['Pclass', 'Sex', 'SibSp', 'Parch', 'Embarked', 'Title']:\n",
    "    for i in range(len(data)):\n",
    "        col = pd.get_dummies(data[i][col_name], drop_first=True, prefix=col_name)\n",
    "        data[i] = pd.concat([data[i], col], axis=1)\n",
    "        data[i].drop(col_name, axis=1, inplace=True)"
   ]
  },
  {
   "cell_type": "code",
   "execution_count": 645,
   "metadata": {},
   "outputs": [
    {
     "data": {
      "text/html": [
       "<div>\n",
       "<style scoped>\n",
       "    .dataframe tbody tr th:only-of-type {\n",
       "        vertical-align: middle;\n",
       "    }\n",
       "\n",
       "    .dataframe tbody tr th {\n",
       "        vertical-align: top;\n",
       "    }\n",
       "\n",
       "    .dataframe thead th {\n",
       "        text-align: right;\n",
       "    }\n",
       "</style>\n",
       "<table border=\"1\" class=\"dataframe\">\n",
       "  <thead>\n",
       "    <tr style=\"text-align: right;\">\n",
       "      <th></th>\n",
       "      <th>Survived</th>\n",
       "      <th>Age</th>\n",
       "      <th>Fare</th>\n",
       "      <th>Pclass_2</th>\n",
       "      <th>Pclass_3</th>\n",
       "      <th>Sex_male</th>\n",
       "      <th>SibSp_1</th>\n",
       "      <th>SibSp_2</th>\n",
       "      <th>SibSp_3</th>\n",
       "      <th>SibSp_4</th>\n",
       "      <th>...</th>\n",
       "      <th>Title_Master.</th>\n",
       "      <th>Title_Miss.</th>\n",
       "      <th>Title_Mlle.</th>\n",
       "      <th>Title_Mme.</th>\n",
       "      <th>Title_Mr.</th>\n",
       "      <th>Title_Mrs.</th>\n",
       "      <th>Title_Ms.</th>\n",
       "      <th>Title_Rev.</th>\n",
       "      <th>Title_Sir.</th>\n",
       "      <th>Title_the</th>\n",
       "    </tr>\n",
       "  </thead>\n",
       "  <tbody>\n",
       "    <tr>\n",
       "      <th>0</th>\n",
       "      <td>0</td>\n",
       "      <td>22.0</td>\n",
       "      <td>7.2500</td>\n",
       "      <td>0</td>\n",
       "      <td>1</td>\n",
       "      <td>1</td>\n",
       "      <td>1</td>\n",
       "      <td>0</td>\n",
       "      <td>0</td>\n",
       "      <td>0</td>\n",
       "      <td>...</td>\n",
       "      <td>0</td>\n",
       "      <td>0</td>\n",
       "      <td>0</td>\n",
       "      <td>0</td>\n",
       "      <td>1</td>\n",
       "      <td>0</td>\n",
       "      <td>0</td>\n",
       "      <td>0</td>\n",
       "      <td>0</td>\n",
       "      <td>0</td>\n",
       "    </tr>\n",
       "    <tr>\n",
       "      <th>1</th>\n",
       "      <td>1</td>\n",
       "      <td>38.0</td>\n",
       "      <td>71.2833</td>\n",
       "      <td>0</td>\n",
       "      <td>0</td>\n",
       "      <td>0</td>\n",
       "      <td>1</td>\n",
       "      <td>0</td>\n",
       "      <td>0</td>\n",
       "      <td>0</td>\n",
       "      <td>...</td>\n",
       "      <td>0</td>\n",
       "      <td>0</td>\n",
       "      <td>0</td>\n",
       "      <td>0</td>\n",
       "      <td>0</td>\n",
       "      <td>1</td>\n",
       "      <td>0</td>\n",
       "      <td>0</td>\n",
       "      <td>0</td>\n",
       "      <td>0</td>\n",
       "    </tr>\n",
       "    <tr>\n",
       "      <th>2</th>\n",
       "      <td>1</td>\n",
       "      <td>26.0</td>\n",
       "      <td>7.9250</td>\n",
       "      <td>0</td>\n",
       "      <td>1</td>\n",
       "      <td>0</td>\n",
       "      <td>0</td>\n",
       "      <td>0</td>\n",
       "      <td>0</td>\n",
       "      <td>0</td>\n",
       "      <td>...</td>\n",
       "      <td>0</td>\n",
       "      <td>1</td>\n",
       "      <td>0</td>\n",
       "      <td>0</td>\n",
       "      <td>0</td>\n",
       "      <td>0</td>\n",
       "      <td>0</td>\n",
       "      <td>0</td>\n",
       "      <td>0</td>\n",
       "      <td>0</td>\n",
       "    </tr>\n",
       "    <tr>\n",
       "      <th>3</th>\n",
       "      <td>1</td>\n",
       "      <td>35.0</td>\n",
       "      <td>53.1000</td>\n",
       "      <td>0</td>\n",
       "      <td>0</td>\n",
       "      <td>0</td>\n",
       "      <td>1</td>\n",
       "      <td>0</td>\n",
       "      <td>0</td>\n",
       "      <td>0</td>\n",
       "      <td>...</td>\n",
       "      <td>0</td>\n",
       "      <td>0</td>\n",
       "      <td>0</td>\n",
       "      <td>0</td>\n",
       "      <td>0</td>\n",
       "      <td>1</td>\n",
       "      <td>0</td>\n",
       "      <td>0</td>\n",
       "      <td>0</td>\n",
       "      <td>0</td>\n",
       "    </tr>\n",
       "    <tr>\n",
       "      <th>4</th>\n",
       "      <td>0</td>\n",
       "      <td>35.0</td>\n",
       "      <td>8.0500</td>\n",
       "      <td>0</td>\n",
       "      <td>1</td>\n",
       "      <td>1</td>\n",
       "      <td>0</td>\n",
       "      <td>0</td>\n",
       "      <td>0</td>\n",
       "      <td>0</td>\n",
       "      <td>...</td>\n",
       "      <td>0</td>\n",
       "      <td>0</td>\n",
       "      <td>0</td>\n",
       "      <td>0</td>\n",
       "      <td>1</td>\n",
       "      <td>0</td>\n",
       "      <td>0</td>\n",
       "      <td>0</td>\n",
       "      <td>0</td>\n",
       "      <td>0</td>\n",
       "    </tr>\n",
       "  </tbody>\n",
       "</table>\n",
       "<p>5 rows × 36 columns</p>\n",
       "</div>"
      ],
      "text/plain": [
       "   Survived   Age     Fare  Pclass_2  Pclass_3  Sex_male  SibSp_1  SibSp_2  \\\n",
       "0         0  22.0   7.2500         0         1         1        1        0   \n",
       "1         1  38.0  71.2833         0         0         0        1        0   \n",
       "2         1  26.0   7.9250         0         1         0        0        0   \n",
       "3         1  35.0  53.1000         0         0         0        1        0   \n",
       "4         0  35.0   8.0500         0         1         1        0        0   \n",
       "\n",
       "   SibSp_3  SibSp_4    ...      Title_Master.  Title_Miss.  Title_Mlle.  \\\n",
       "0        0        0    ...                  0            0            0   \n",
       "1        0        0    ...                  0            0            0   \n",
       "2        0        0    ...                  0            1            0   \n",
       "3        0        0    ...                  0            0            0   \n",
       "4        0        0    ...                  0            0            0   \n",
       "\n",
       "   Title_Mme.  Title_Mr.  Title_Mrs.  Title_Ms.  Title_Rev.  Title_Sir.  \\\n",
       "0           0          1           0          0           0           0   \n",
       "1           0          0           1          0           0           0   \n",
       "2           0          0           0          0           0           0   \n",
       "3           0          0           1          0           0           0   \n",
       "4           0          1           0          0           0           0   \n",
       "\n",
       "   Title_the  \n",
       "0          0  \n",
       "1          0  \n",
       "2          0  \n",
       "3          0  \n",
       "4          0  \n",
       "\n",
       "[5 rows x 36 columns]"
      ]
     },
     "execution_count": 645,
     "metadata": {},
     "output_type": "execute_result"
    }
   ],
   "source": [
    "data[0].head()"
   ]
  },
  {
   "cell_type": "markdown",
   "metadata": {},
   "source": [
    "# Machine Learning"
   ]
  },
  {
   "cell_type": "markdown",
   "metadata": {},
   "source": [
    "## train-test split"
   ]
  },
  {
   "cell_type": "code",
   "execution_count": 646,
   "metadata": {},
   "outputs": [],
   "source": [
    "from sklearn.model_selection import train_test_split"
   ]
  },
  {
   "cell_type": "code",
   "execution_count": 647,
   "metadata": {},
   "outputs": [
    {
     "data": {
      "text/html": [
       "<div>\n",
       "<style scoped>\n",
       "    .dataframe tbody tr th:only-of-type {\n",
       "        vertical-align: middle;\n",
       "    }\n",
       "\n",
       "    .dataframe tbody tr th {\n",
       "        vertical-align: top;\n",
       "    }\n",
       "\n",
       "    .dataframe thead th {\n",
       "        text-align: right;\n",
       "    }\n",
       "</style>\n",
       "<table border=\"1\" class=\"dataframe\">\n",
       "  <thead>\n",
       "    <tr style=\"text-align: right;\">\n",
       "      <th></th>\n",
       "      <th>Age</th>\n",
       "      <th>Fare</th>\n",
       "      <th>Pclass_2</th>\n",
       "      <th>Pclass_3</th>\n",
       "      <th>Sex_male</th>\n",
       "      <th>SibSp_1</th>\n",
       "      <th>SibSp_2</th>\n",
       "      <th>SibSp_3</th>\n",
       "      <th>SibSp_4</th>\n",
       "      <th>SibSp_5</th>\n",
       "      <th>...</th>\n",
       "      <th>Title_Master.</th>\n",
       "      <th>Title_Miss.</th>\n",
       "      <th>Title_Mlle.</th>\n",
       "      <th>Title_Mme.</th>\n",
       "      <th>Title_Mr.</th>\n",
       "      <th>Title_Mrs.</th>\n",
       "      <th>Title_Ms.</th>\n",
       "      <th>Title_Rev.</th>\n",
       "      <th>Title_Sir.</th>\n",
       "      <th>Title_the</th>\n",
       "    </tr>\n",
       "  </thead>\n",
       "  <tbody>\n",
       "    <tr>\n",
       "      <th>0</th>\n",
       "      <td>22.0</td>\n",
       "      <td>7.2500</td>\n",
       "      <td>0</td>\n",
       "      <td>1</td>\n",
       "      <td>1</td>\n",
       "      <td>1</td>\n",
       "      <td>0</td>\n",
       "      <td>0</td>\n",
       "      <td>0</td>\n",
       "      <td>0</td>\n",
       "      <td>...</td>\n",
       "      <td>0</td>\n",
       "      <td>0</td>\n",
       "      <td>0</td>\n",
       "      <td>0</td>\n",
       "      <td>1</td>\n",
       "      <td>0</td>\n",
       "      <td>0</td>\n",
       "      <td>0</td>\n",
       "      <td>0</td>\n",
       "      <td>0</td>\n",
       "    </tr>\n",
       "    <tr>\n",
       "      <th>1</th>\n",
       "      <td>38.0</td>\n",
       "      <td>71.2833</td>\n",
       "      <td>0</td>\n",
       "      <td>0</td>\n",
       "      <td>0</td>\n",
       "      <td>1</td>\n",
       "      <td>0</td>\n",
       "      <td>0</td>\n",
       "      <td>0</td>\n",
       "      <td>0</td>\n",
       "      <td>...</td>\n",
       "      <td>0</td>\n",
       "      <td>0</td>\n",
       "      <td>0</td>\n",
       "      <td>0</td>\n",
       "      <td>0</td>\n",
       "      <td>1</td>\n",
       "      <td>0</td>\n",
       "      <td>0</td>\n",
       "      <td>0</td>\n",
       "      <td>0</td>\n",
       "    </tr>\n",
       "    <tr>\n",
       "      <th>2</th>\n",
       "      <td>26.0</td>\n",
       "      <td>7.9250</td>\n",
       "      <td>0</td>\n",
       "      <td>1</td>\n",
       "      <td>0</td>\n",
       "      <td>0</td>\n",
       "      <td>0</td>\n",
       "      <td>0</td>\n",
       "      <td>0</td>\n",
       "      <td>0</td>\n",
       "      <td>...</td>\n",
       "      <td>0</td>\n",
       "      <td>1</td>\n",
       "      <td>0</td>\n",
       "      <td>0</td>\n",
       "      <td>0</td>\n",
       "      <td>0</td>\n",
       "      <td>0</td>\n",
       "      <td>0</td>\n",
       "      <td>0</td>\n",
       "      <td>0</td>\n",
       "    </tr>\n",
       "    <tr>\n",
       "      <th>3</th>\n",
       "      <td>35.0</td>\n",
       "      <td>53.1000</td>\n",
       "      <td>0</td>\n",
       "      <td>0</td>\n",
       "      <td>0</td>\n",
       "      <td>1</td>\n",
       "      <td>0</td>\n",
       "      <td>0</td>\n",
       "      <td>0</td>\n",
       "      <td>0</td>\n",
       "      <td>...</td>\n",
       "      <td>0</td>\n",
       "      <td>0</td>\n",
       "      <td>0</td>\n",
       "      <td>0</td>\n",
       "      <td>0</td>\n",
       "      <td>1</td>\n",
       "      <td>0</td>\n",
       "      <td>0</td>\n",
       "      <td>0</td>\n",
       "      <td>0</td>\n",
       "    </tr>\n",
       "    <tr>\n",
       "      <th>4</th>\n",
       "      <td>35.0</td>\n",
       "      <td>8.0500</td>\n",
       "      <td>0</td>\n",
       "      <td>1</td>\n",
       "      <td>1</td>\n",
       "      <td>0</td>\n",
       "      <td>0</td>\n",
       "      <td>0</td>\n",
       "      <td>0</td>\n",
       "      <td>0</td>\n",
       "      <td>...</td>\n",
       "      <td>0</td>\n",
       "      <td>0</td>\n",
       "      <td>0</td>\n",
       "      <td>0</td>\n",
       "      <td>1</td>\n",
       "      <td>0</td>\n",
       "      <td>0</td>\n",
       "      <td>0</td>\n",
       "      <td>0</td>\n",
       "      <td>0</td>\n",
       "    </tr>\n",
       "  </tbody>\n",
       "</table>\n",
       "<p>5 rows × 35 columns</p>\n",
       "</div>"
      ],
      "text/plain": [
       "    Age     Fare  Pclass_2  Pclass_3  Sex_male  SibSp_1  SibSp_2  SibSp_3  \\\n",
       "0  22.0   7.2500         0         1         1        1        0        0   \n",
       "1  38.0  71.2833         0         0         0        1        0        0   \n",
       "2  26.0   7.9250         0         1         0        0        0        0   \n",
       "3  35.0  53.1000         0         0         0        1        0        0   \n",
       "4  35.0   8.0500         0         1         1        0        0        0   \n",
       "\n",
       "   SibSp_4  SibSp_5    ...      Title_Master.  Title_Miss.  Title_Mlle.  \\\n",
       "0        0        0    ...                  0            0            0   \n",
       "1        0        0    ...                  0            0            0   \n",
       "2        0        0    ...                  0            1            0   \n",
       "3        0        0    ...                  0            0            0   \n",
       "4        0        0    ...                  0            0            0   \n",
       "\n",
       "   Title_Mme.  Title_Mr.  Title_Mrs.  Title_Ms.  Title_Rev.  Title_Sir.  \\\n",
       "0           0          1           0          0           0           0   \n",
       "1           0          0           1          0           0           0   \n",
       "2           0          0           0          0           0           0   \n",
       "3           0          0           1          0           0           0   \n",
       "4           0          1           0          0           0           0   \n",
       "\n",
       "   Title_the  \n",
       "0          0  \n",
       "1          0  \n",
       "2          0  \n",
       "3          0  \n",
       "4          0  \n",
       "\n",
       "[5 rows x 35 columns]"
      ]
     },
     "execution_count": 647,
     "metadata": {},
     "output_type": "execute_result"
    }
   ],
   "source": [
    "X = data[0].drop('Survived', axis=1)\n",
    "X.head()"
   ]
  },
  {
   "cell_type": "code",
   "execution_count": 648,
   "metadata": {},
   "outputs": [
    {
     "data": {
      "text/plain": [
       "0    0\n",
       "1    1\n",
       "2    1\n",
       "3    1\n",
       "4    0\n",
       "Name: Survived, dtype: int64"
      ]
     },
     "execution_count": 648,
     "metadata": {},
     "output_type": "execute_result"
    }
   ],
   "source": [
    "y = data[0]['Survived']\n",
    "y.head()"
   ]
  },
  {
   "cell_type": "code",
   "execution_count": 649,
   "metadata": {},
   "outputs": [],
   "source": [
    "X_train, X_test, y_train, y_test = train_test_split(X, y, test_size=0.33, random_state=42)"
   ]
  },
  {
   "cell_type": "markdown",
   "metadata": {},
   "source": [
    "## logistic regression"
   ]
  },
  {
   "cell_type": "code",
   "execution_count": 650,
   "metadata": {},
   "outputs": [],
   "source": [
    "from sklearn.linear_model import LogisticRegression"
   ]
  },
  {
   "cell_type": "code",
   "execution_count": 651,
   "metadata": {},
   "outputs": [],
   "source": [
    "lrm = LogisticRegression()"
   ]
  },
  {
   "cell_type": "code",
   "execution_count": 652,
   "metadata": {},
   "outputs": [
    {
     "data": {
      "text/plain": [
       "LogisticRegression(C=1.0, class_weight=None, dual=False, fit_intercept=True,\n",
       "          intercept_scaling=1, max_iter=100, multi_class='ovr', n_jobs=1,\n",
       "          penalty='l2', random_state=None, solver='liblinear', tol=0.0001,\n",
       "          verbose=0, warm_start=False)"
      ]
     },
     "execution_count": 652,
     "metadata": {},
     "output_type": "execute_result"
    }
   ],
   "source": [
    "lrm.fit(X_train, y_train)"
   ]
  },
  {
   "cell_type": "code",
   "execution_count": 653,
   "metadata": {},
   "outputs": [],
   "source": [
    "predictions = lrm.predict(X_test)"
   ]
  },
  {
   "cell_type": "markdown",
   "metadata": {},
   "source": [
    "## evaluate model"
   ]
  },
  {
   "cell_type": "code",
   "execution_count": 654,
   "metadata": {},
   "outputs": [],
   "source": [
    "from sklearn.metrics import classification_report, confusion_matrix"
   ]
  },
  {
   "cell_type": "code",
   "execution_count": 655,
   "metadata": {},
   "outputs": [
    {
     "name": "stdout",
     "output_type": "stream",
     "text": [
      "             precision    recall  f1-score   support\n",
      "\n",
      "          0       0.83      0.89      0.86       175\n",
      "          1       0.82      0.73      0.78       120\n",
      "\n",
      "avg / total       0.83      0.83      0.83       295\n",
      "\n"
     ]
    }
   ],
   "source": [
    "print(classification_report(y_test, predictions))"
   ]
  },
  {
   "cell_type": "code",
   "execution_count": 656,
   "metadata": {},
   "outputs": [
    {
     "name": "stdout",
     "output_type": "stream",
     "text": [
      "[[156  19]\n",
      " [ 32  88]]\n"
     ]
    }
   ],
   "source": [
    "print(confusion_matrix(y_test, predictions))"
   ]
  },
  {
   "cell_type": "markdown",
   "metadata": {},
   "source": [
    "## svm"
   ]
  },
  {
   "cell_type": "code",
   "execution_count": 657,
   "metadata": {},
   "outputs": [],
   "source": [
    "param_grid = {'C': [0.01, 0.1,1, 5, 10, 50, 100, 200, 500, 1000, 1200, 1500, 2000], 'gamma': [100, 50, 20, 10, 1,0.1,0.01,0.001,0.0001], 'kernel': ['rbf']} "
   ]
  },
  {
   "cell_type": "code",
   "execution_count": 658,
   "metadata": {},
   "outputs": [],
   "source": [
    "from sklearn.svm import SVC\n",
    "from sklearn.model_selection import GridSearchCV"
   ]
  },
  {
   "cell_type": "code",
   "execution_count": 659,
   "metadata": {},
   "outputs": [],
   "source": [
    "grid = GridSearchCV(SVC(), param_grid, refit=True, verbose=3)"
   ]
  },
  {
   "cell_type": "code",
   "execution_count": 660,
   "metadata": {},
   "outputs": [
    {
     "name": "stdout",
     "output_type": "stream",
     "text": [
      "Fitting 3 folds for each of 117 candidates, totalling 351 fits\n",
      "[CV] C=0.01, gamma=100, kernel=rbf ...................................\n",
      "[CV]  C=0.01, gamma=100, kernel=rbf, score=0.628140703517588, total=   0.0s\n",
      "[CV] C=0.01, gamma=100, kernel=rbf ...................................\n",
      "[CV]  C=0.01, gamma=100, kernel=rbf, score=0.628140703517588, total=   0.0s\n",
      "[CV] C=0.01, gamma=100, kernel=rbf ...................................\n"
     ]
    },
    {
     "name": "stderr",
     "output_type": "stream",
     "text": [
      "[Parallel(n_jobs=1)]: Done   1 out of   1 | elapsed:    0.0s remaining:    0.0s\n",
      "[Parallel(n_jobs=1)]: Done   2 out of   2 | elapsed:    0.1s remaining:    0.0s\n"
     ]
    },
    {
     "name": "stdout",
     "output_type": "stream",
     "text": [
      "[CV]  C=0.01, gamma=100, kernel=rbf, score=0.6262626262626263, total=   0.0s\n",
      "[CV] C=0.01, gamma=50, kernel=rbf ....................................\n",
      "[CV]  C=0.01, gamma=50, kernel=rbf, score=0.628140703517588, total=   0.0s\n",
      "[CV] C=0.01, gamma=50, kernel=rbf ....................................\n",
      "[CV]  C=0.01, gamma=50, kernel=rbf, score=0.628140703517588, total=   0.0s\n",
      "[CV] C=0.01, gamma=50, kernel=rbf ....................................\n",
      "[CV]  C=0.01, gamma=50, kernel=rbf, score=0.6262626262626263, total=   0.0s\n",
      "[CV] C=0.01, gamma=20, kernel=rbf ....................................\n",
      "[CV]  C=0.01, gamma=20, kernel=rbf, score=0.628140703517588, total=   0.0s\n",
      "[CV] C=0.01, gamma=20, kernel=rbf ....................................\n",
      "[CV]  C=0.01, gamma=20, kernel=rbf, score=0.628140703517588, total=   0.0s\n",
      "[CV] C=0.01, gamma=20, kernel=rbf ....................................\n",
      "[CV]  C=0.01, gamma=20, kernel=rbf, score=0.6262626262626263, total=   0.0s\n",
      "[CV] C=0.01, gamma=10, kernel=rbf ....................................\n",
      "[CV]  C=0.01, gamma=10, kernel=rbf, score=0.628140703517588, total=   0.0s\n",
      "[CV] C=0.01, gamma=10, kernel=rbf ....................................\n",
      "[CV]  C=0.01, gamma=10, kernel=rbf, score=0.628140703517588, total=   0.0s\n",
      "[CV] C=0.01, gamma=10, kernel=rbf ....................................\n",
      "[CV]  C=0.01, gamma=10, kernel=rbf, score=0.6262626262626263, total=   0.0s\n",
      "[CV] C=0.01, gamma=1, kernel=rbf .....................................\n",
      "[CV]  C=0.01, gamma=1, kernel=rbf, score=0.628140703517588, total=   0.0s\n",
      "[CV] C=0.01, gamma=1, kernel=rbf .....................................\n",
      "[CV]  C=0.01, gamma=1, kernel=rbf, score=0.628140703517588, total=   0.0s\n",
      "[CV] C=0.01, gamma=1, kernel=rbf .....................................\n",
      "[CV]  C=0.01, gamma=1, kernel=rbf, score=0.6262626262626263, total=   0.0s\n",
      "[CV] C=0.01, gamma=0.1, kernel=rbf ...................................\n",
      "[CV]  C=0.01, gamma=0.1, kernel=rbf, score=0.628140703517588, total=   0.0s\n",
      "[CV] C=0.01, gamma=0.1, kernel=rbf ...................................\n",
      "[CV]  C=0.01, gamma=0.1, kernel=rbf, score=0.628140703517588, total=   0.0s\n",
      "[CV] C=0.01, gamma=0.1, kernel=rbf ...................................\n",
      "[CV]  C=0.01, gamma=0.1, kernel=rbf, score=0.6262626262626263, total=   0.0s\n",
      "[CV] C=0.01, gamma=0.01, kernel=rbf ..................................\n",
      "[CV]  C=0.01, gamma=0.01, kernel=rbf, score=0.628140703517588, total=   0.0s\n",
      "[CV] C=0.01, gamma=0.01, kernel=rbf ..................................\n",
      "[CV]  C=0.01, gamma=0.01, kernel=rbf, score=0.628140703517588, total=   0.0s\n",
      "[CV] C=0.01, gamma=0.01, kernel=rbf ..................................\n",
      "[CV]  C=0.01, gamma=0.01, kernel=rbf, score=0.6262626262626263, total=   0.0s\n",
      "[CV] C=0.01, gamma=0.001, kernel=rbf .................................\n",
      "[CV]  C=0.01, gamma=0.001, kernel=rbf, score=0.628140703517588, total=   0.0s\n",
      "[CV] C=0.01, gamma=0.001, kernel=rbf .................................\n",
      "[CV]  C=0.01, gamma=0.001, kernel=rbf, score=0.628140703517588, total=   0.0s\n",
      "[CV] C=0.01, gamma=0.001, kernel=rbf .................................\n",
      "[CV]  C=0.01, gamma=0.001, kernel=rbf, score=0.6262626262626263, total=   0.0s\n",
      "[CV] C=0.01, gamma=0.0001, kernel=rbf ................................\n",
      "[CV]  C=0.01, gamma=0.0001, kernel=rbf, score=0.628140703517588, total=   0.0s\n",
      "[CV] C=0.01, gamma=0.0001, kernel=rbf ................................\n",
      "[CV]  C=0.01, gamma=0.0001, kernel=rbf, score=0.628140703517588, total=   0.0s\n",
      "[CV] C=0.01, gamma=0.0001, kernel=rbf ................................\n",
      "[CV]  C=0.01, gamma=0.0001, kernel=rbf, score=0.6262626262626263, total=   0.0s\n",
      "[CV] C=0.1, gamma=100, kernel=rbf ....................................\n",
      "[CV]  C=0.1, gamma=100, kernel=rbf, score=0.628140703517588, total=   0.0s\n",
      "[CV] C=0.1, gamma=100, kernel=rbf ....................................\n",
      "[CV]  C=0.1, gamma=100, kernel=rbf, score=0.628140703517588, total=   0.0s\n",
      "[CV] C=0.1, gamma=100, kernel=rbf ....................................\n",
      "[CV]  C=0.1, gamma=100, kernel=rbf, score=0.6262626262626263, total=   0.0s\n",
      "[CV] C=0.1, gamma=50, kernel=rbf .....................................\n",
      "[CV]  C=0.1, gamma=50, kernel=rbf, score=0.628140703517588, total=   0.0s\n",
      "[CV] C=0.1, gamma=50, kernel=rbf .....................................\n",
      "[CV]  C=0.1, gamma=50, kernel=rbf, score=0.628140703517588, total=   0.0s\n",
      "[CV] C=0.1, gamma=50, kernel=rbf .....................................\n",
      "[CV]  C=0.1, gamma=50, kernel=rbf, score=0.6262626262626263, total=   0.0s\n",
      "[CV] C=0.1, gamma=20, kernel=rbf .....................................\n",
      "[CV]  C=0.1, gamma=20, kernel=rbf, score=0.628140703517588, total=   0.0s\n",
      "[CV] C=0.1, gamma=20, kernel=rbf .....................................\n",
      "[CV]  C=0.1, gamma=20, kernel=rbf, score=0.628140703517588, total=   0.0s\n",
      "[CV] C=0.1, gamma=20, kernel=rbf .....................................\n",
      "[CV]  C=0.1, gamma=20, kernel=rbf, score=0.6262626262626263, total=   0.0s\n",
      "[CV] C=0.1, gamma=10, kernel=rbf .....................................\n",
      "[CV]  C=0.1, gamma=10, kernel=rbf, score=0.628140703517588, total=   0.0s\n",
      "[CV] C=0.1, gamma=10, kernel=rbf .....................................\n",
      "[CV]  C=0.1, gamma=10, kernel=rbf, score=0.628140703517588, total=   0.0s\n",
      "[CV] C=0.1, gamma=10, kernel=rbf .....................................\n",
      "[CV]  C=0.1, gamma=10, kernel=rbf, score=0.6262626262626263, total=   0.0s\n",
      "[CV] C=0.1, gamma=1, kernel=rbf ......................................\n",
      "[CV]  C=0.1, gamma=1, kernel=rbf, score=0.628140703517588, total=   0.0s\n",
      "[CV] C=0.1, gamma=1, kernel=rbf ......................................\n",
      "[CV]  C=0.1, gamma=1, kernel=rbf, score=0.628140703517588, total=   0.0s\n",
      "[CV] C=0.1, gamma=1, kernel=rbf ......................................\n",
      "[CV]  C=0.1, gamma=1, kernel=rbf, score=0.6262626262626263, total=   0.0s\n",
      "[CV] C=0.1, gamma=0.1, kernel=rbf ....................................\n",
      "[CV]  C=0.1, gamma=0.1, kernel=rbf, score=0.628140703517588, total=   0.0s\n",
      "[CV] C=0.1, gamma=0.1, kernel=rbf ....................................\n",
      "[CV]  C=0.1, gamma=0.1, kernel=rbf, score=0.628140703517588, total=   0.0s\n",
      "[CV] C=0.1, gamma=0.1, kernel=rbf ....................................\n",
      "[CV]  C=0.1, gamma=0.1, kernel=rbf, score=0.6262626262626263, total=   0.0s\n",
      "[CV] C=0.1, gamma=0.01, kernel=rbf ...................................\n",
      "[CV]  C=0.1, gamma=0.01, kernel=rbf, score=0.628140703517588, total=   0.0s\n",
      "[CV] C=0.1, gamma=0.01, kernel=rbf ...................................\n",
      "[CV]  C=0.1, gamma=0.01, kernel=rbf, score=0.628140703517588, total=   0.0s\n",
      "[CV] C=0.1, gamma=0.01, kernel=rbf ...................................\n",
      "[CV]  C=0.1, gamma=0.01, kernel=rbf, score=0.6262626262626263, total=   0.0s\n",
      "[CV] C=0.1, gamma=0.001, kernel=rbf ..................................\n",
      "[CV]  C=0.1, gamma=0.001, kernel=rbf, score=0.628140703517588, total=   0.0s\n",
      "[CV] C=0.1, gamma=0.001, kernel=rbf ..................................\n",
      "[CV]  C=0.1, gamma=0.001, kernel=rbf, score=0.6231155778894473, total=   0.0s\n",
      "[CV] C=0.1, gamma=0.001, kernel=rbf ..................................\n",
      "[CV]  C=0.1, gamma=0.001, kernel=rbf, score=0.6464646464646465, total=   0.0s\n",
      "[CV] C=0.1, gamma=0.0001, kernel=rbf .................................\n",
      "[CV]  C=0.1, gamma=0.0001, kernel=rbf, score=0.628140703517588, total=   0.0s\n",
      "[CV] C=0.1, gamma=0.0001, kernel=rbf .................................\n",
      "[CV]  C=0.1, gamma=0.0001, kernel=rbf, score=0.6331658291457286, total=   0.0s\n",
      "[CV] C=0.1, gamma=0.0001, kernel=rbf .................................\n",
      "[CV]  C=0.1, gamma=0.0001, kernel=rbf, score=0.6464646464646465, total=   0.0s\n",
      "[CV] C=1, gamma=100, kernel=rbf ......................................\n",
      "[CV]  C=1, gamma=100, kernel=rbf, score=0.6432160804020101, total=   0.0s\n",
      "[CV] C=1, gamma=100, kernel=rbf ......................................\n",
      "[CV]  C=1, gamma=100, kernel=rbf, score=0.6231155778894473, total=   0.0s\n",
      "[CV] C=1, gamma=100, kernel=rbf ......................................\n",
      "[CV]  C=1, gamma=100, kernel=rbf, score=0.6464646464646465, total=   0.0s\n",
      "[CV] C=1, gamma=50, kernel=rbf .......................................\n",
      "[CV]  C=1, gamma=50, kernel=rbf, score=0.6381909547738693, total=   0.0s\n",
      "[CV] C=1, gamma=50, kernel=rbf .......................................\n",
      "[CV]  C=1, gamma=50, kernel=rbf, score=0.6231155778894473, total=   0.0s\n",
      "[CV] C=1, gamma=50, kernel=rbf .......................................\n",
      "[CV]  C=1, gamma=50, kernel=rbf, score=0.6515151515151515, total=   0.0s\n",
      "[CV] C=1, gamma=20, kernel=rbf .......................................\n"
     ]
    },
    {
     "name": "stdout",
     "output_type": "stream",
     "text": [
      "[CV]  C=1, gamma=20, kernel=rbf, score=0.6432160804020101, total=   0.0s\n",
      "[CV] C=1, gamma=20, kernel=rbf .......................................\n",
      "[CV]  C=1, gamma=20, kernel=rbf, score=0.6231155778894473, total=   0.0s\n",
      "[CV] C=1, gamma=20, kernel=rbf .......................................\n",
      "[CV]  C=1, gamma=20, kernel=rbf, score=0.6363636363636364, total=   0.0s\n",
      "[CV] C=1, gamma=10, kernel=rbf .......................................\n",
      "[CV]  C=1, gamma=10, kernel=rbf, score=0.6432160804020101, total=   0.0s\n",
      "[CV] C=1, gamma=10, kernel=rbf .......................................\n",
      "[CV]  C=1, gamma=10, kernel=rbf, score=0.6130653266331658, total=   0.0s\n",
      "[CV] C=1, gamma=10, kernel=rbf .......................................\n",
      "[CV]  C=1, gamma=10, kernel=rbf, score=0.6262626262626263, total=   0.0s\n",
      "[CV] C=1, gamma=1, kernel=rbf ........................................\n",
      "[CV]  C=1, gamma=1, kernel=rbf, score=0.6432160804020101, total=   0.0s\n",
      "[CV] C=1, gamma=1, kernel=rbf ........................................\n",
      "[CV]  C=1, gamma=1, kernel=rbf, score=0.6231155778894473, total=   0.0s\n",
      "[CV] C=1, gamma=1, kernel=rbf ........................................\n",
      "[CV]  C=1, gamma=1, kernel=rbf, score=0.6414141414141414, total=   0.0s\n",
      "[CV] C=1, gamma=0.1, kernel=rbf ......................................\n",
      "[CV]  C=1, gamma=0.1, kernel=rbf, score=0.678391959798995, total=   0.0s\n",
      "[CV] C=1, gamma=0.1, kernel=rbf ......................................\n",
      "[CV]  C=1, gamma=0.1, kernel=rbf, score=0.6532663316582915, total=   0.0s\n",
      "[CV] C=1, gamma=0.1, kernel=rbf ......................................\n",
      "[CV]  C=1, gamma=0.1, kernel=rbf, score=0.6464646464646465, total=   0.0s\n",
      "[CV] C=1, gamma=0.01, kernel=rbf .....................................\n",
      "[CV]  C=1, gamma=0.01, kernel=rbf, score=0.6834170854271356, total=   0.0s\n",
      "[CV] C=1, gamma=0.01, kernel=rbf .....................................\n",
      "[CV]  C=1, gamma=0.01, kernel=rbf, score=0.6482412060301508, total=   0.0s\n",
      "[CV] C=1, gamma=0.01, kernel=rbf .....................................\n",
      "[CV]  C=1, gamma=0.01, kernel=rbf, score=0.6767676767676768, total=   0.0s\n",
      "[CV] C=1, gamma=0.001, kernel=rbf ....................................\n",
      "[CV]  C=1, gamma=0.001, kernel=rbf, score=0.7185929648241206, total=   0.0s\n",
      "[CV] C=1, gamma=0.001, kernel=rbf ....................................\n",
      "[CV]  C=1, gamma=0.001, kernel=rbf, score=0.6432160804020101, total=   0.0s\n",
      "[CV] C=1, gamma=0.001, kernel=rbf ....................................\n",
      "[CV]  C=1, gamma=0.001, kernel=rbf, score=0.6464646464646465, total=   0.0s\n",
      "[CV] C=1, gamma=0.0001, kernel=rbf ...................................\n",
      "[CV]  C=1, gamma=0.0001, kernel=rbf, score=0.678391959798995, total=   0.0s\n",
      "[CV] C=1, gamma=0.0001, kernel=rbf ...................................\n",
      "[CV]  C=1, gamma=0.0001, kernel=rbf, score=0.628140703517588, total=   0.0s\n",
      "[CV] C=1, gamma=0.0001, kernel=rbf ...................................\n",
      "[CV]  C=1, gamma=0.0001, kernel=rbf, score=0.6616161616161617, total=   0.0s\n",
      "[CV] C=5, gamma=100, kernel=rbf ......................................\n",
      "[CV]  C=5, gamma=100, kernel=rbf, score=0.6331658291457286, total=   0.0s\n",
      "[CV] C=5, gamma=100, kernel=rbf ......................................\n",
      "[CV]  C=5, gamma=100, kernel=rbf, score=0.6231155778894473, total=   0.0s\n",
      "[CV] C=5, gamma=100, kernel=rbf ......................................\n",
      "[CV]  C=5, gamma=100, kernel=rbf, score=0.6464646464646465, total=   0.0s\n",
      "[CV] C=5, gamma=50, kernel=rbf .......................................\n",
      "[CV]  C=5, gamma=50, kernel=rbf, score=0.6331658291457286, total=   0.0s\n",
      "[CV] C=5, gamma=50, kernel=rbf .......................................\n",
      "[CV]  C=5, gamma=50, kernel=rbf, score=0.6231155778894473, total=   0.0s\n",
      "[CV] C=5, gamma=50, kernel=rbf .......................................\n",
      "[CV]  C=5, gamma=50, kernel=rbf, score=0.6363636363636364, total=   0.0s\n",
      "[CV] C=5, gamma=20, kernel=rbf .......................................\n",
      "[CV]  C=5, gamma=20, kernel=rbf, score=0.6331658291457286, total=   0.0s\n",
      "[CV] C=5, gamma=20, kernel=rbf .......................................\n",
      "[CV]  C=5, gamma=20, kernel=rbf, score=0.6180904522613065, total=   0.0s\n",
      "[CV] C=5, gamma=20, kernel=rbf .......................................\n",
      "[CV]  C=5, gamma=20, kernel=rbf, score=0.6262626262626263, total=   0.0s\n",
      "[CV] C=5, gamma=10, kernel=rbf .......................................\n",
      "[CV]  C=5, gamma=10, kernel=rbf, score=0.6331658291457286, total=   0.0s\n",
      "[CV] C=5, gamma=10, kernel=rbf .......................................\n",
      "[CV]  C=5, gamma=10, kernel=rbf, score=0.6130653266331658, total=   0.0s\n",
      "[CV] C=5, gamma=10, kernel=rbf .......................................\n",
      "[CV]  C=5, gamma=10, kernel=rbf, score=0.6262626262626263, total=   0.0s\n",
      "[CV] C=5, gamma=1, kernel=rbf ........................................\n",
      "[CV]  C=5, gamma=1, kernel=rbf, score=0.6532663316582915, total=   0.0s\n",
      "[CV] C=5, gamma=1, kernel=rbf ........................................\n",
      "[CV]  C=5, gamma=1, kernel=rbf, score=0.628140703517588, total=   0.0s\n",
      "[CV] C=5, gamma=1, kernel=rbf ........................................\n",
      "[CV]  C=5, gamma=1, kernel=rbf, score=0.6161616161616161, total=   0.0s\n",
      "[CV] C=5, gamma=0.1, kernel=rbf ......................................\n",
      "[CV]  C=5, gamma=0.1, kernel=rbf, score=0.6381909547738693, total=   0.0s\n",
      "[CV] C=5, gamma=0.1, kernel=rbf ......................................\n",
      "[CV]  C=5, gamma=0.1, kernel=rbf, score=0.678391959798995, total=   0.0s\n",
      "[CV] C=5, gamma=0.1, kernel=rbf ......................................\n",
      "[CV]  C=5, gamma=0.1, kernel=rbf, score=0.6717171717171717, total=   0.0s\n",
      "[CV] C=5, gamma=0.01, kernel=rbf .....................................\n",
      "[CV]  C=5, gamma=0.01, kernel=rbf, score=0.6884422110552764, total=   0.0s\n",
      "[CV] C=5, gamma=0.01, kernel=rbf .....................................\n",
      "[CV]  C=5, gamma=0.01, kernel=rbf, score=0.7035175879396985, total=   0.0s\n",
      "[CV] C=5, gamma=0.01, kernel=rbf .....................................\n",
      "[CV]  C=5, gamma=0.01, kernel=rbf, score=0.7121212121212122, total=   0.0s\n",
      "[CV] C=5, gamma=0.001, kernel=rbf ....................................\n",
      "[CV]  C=5, gamma=0.001, kernel=rbf, score=0.7135678391959799, total=   0.0s\n",
      "[CV] C=5, gamma=0.001, kernel=rbf ....................................\n",
      "[CV]  C=5, gamma=0.001, kernel=rbf, score=0.6432160804020101, total=   0.0s\n",
      "[CV] C=5, gamma=0.001, kernel=rbf ....................................\n",
      "[CV]  C=5, gamma=0.001, kernel=rbf, score=0.6868686868686869, total=   0.0s\n",
      "[CV] C=5, gamma=0.0001, kernel=rbf ...................................\n",
      "[CV]  C=5, gamma=0.0001, kernel=rbf, score=0.6984924623115578, total=   0.0s\n",
      "[CV] C=5, gamma=0.0001, kernel=rbf ...................................\n",
      "[CV]  C=5, gamma=0.0001, kernel=rbf, score=0.628140703517588, total=   0.0s\n",
      "[CV] C=5, gamma=0.0001, kernel=rbf ...................................\n",
      "[CV]  C=5, gamma=0.0001, kernel=rbf, score=0.6616161616161617, total=   0.0s\n",
      "[CV] C=10, gamma=100, kernel=rbf .....................................\n",
      "[CV]  C=10, gamma=100, kernel=rbf, score=0.6331658291457286, total=   0.0s\n",
      "[CV] C=10, gamma=100, kernel=rbf .....................................\n",
      "[CV]  C=10, gamma=100, kernel=rbf, score=0.6231155778894473, total=   0.0s\n",
      "[CV] C=10, gamma=100, kernel=rbf .....................................\n",
      "[CV]  C=10, gamma=100, kernel=rbf, score=0.6464646464646465, total=   0.0s\n",
      "[CV] C=10, gamma=50, kernel=rbf ......................................\n",
      "[CV]  C=10, gamma=50, kernel=rbf, score=0.6331658291457286, total=   0.0s\n",
      "[CV] C=10, gamma=50, kernel=rbf ......................................\n",
      "[CV]  C=10, gamma=50, kernel=rbf, score=0.6231155778894473, total=   0.0s\n",
      "[CV] C=10, gamma=50, kernel=rbf ......................................\n",
      "[CV]  C=10, gamma=50, kernel=rbf, score=0.6363636363636364, total=   0.0s\n",
      "[CV] C=10, gamma=20, kernel=rbf ......................................\n",
      "[CV]  C=10, gamma=20, kernel=rbf, score=0.6331658291457286, total=   0.0s\n",
      "[CV] C=10, gamma=20, kernel=rbf ......................................\n",
      "[CV]  C=10, gamma=20, kernel=rbf, score=0.6180904522613065, total=   0.0s\n",
      "[CV] C=10, gamma=20, kernel=rbf ......................................\n",
      "[CV]  C=10, gamma=20, kernel=rbf, score=0.6262626262626263, total=   0.0s\n",
      "[CV] C=10, gamma=10, kernel=rbf ......................................\n"
     ]
    },
    {
     "name": "stdout",
     "output_type": "stream",
     "text": [
      "[CV]  C=10, gamma=10, kernel=rbf, score=0.628140703517588, total=   0.0s\n",
      "[CV] C=10, gamma=10, kernel=rbf ......................................\n",
      "[CV]  C=10, gamma=10, kernel=rbf, score=0.6130653266331658, total=   0.0s\n",
      "[CV] C=10, gamma=10, kernel=rbf ......................................\n",
      "[CV]  C=10, gamma=10, kernel=rbf, score=0.6262626262626263, total=   0.0s\n",
      "[CV] C=10, gamma=1, kernel=rbf .......................................\n",
      "[CV]  C=10, gamma=1, kernel=rbf, score=0.6532663316582915, total=   0.0s\n",
      "[CV] C=10, gamma=1, kernel=rbf .......................................\n",
      "[CV]  C=10, gamma=1, kernel=rbf, score=0.628140703517588, total=   0.0s\n",
      "[CV] C=10, gamma=1, kernel=rbf .......................................\n",
      "[CV]  C=10, gamma=1, kernel=rbf, score=0.601010101010101, total=   0.0s\n",
      "[CV] C=10, gamma=0.1, kernel=rbf .....................................\n",
      "[CV]  C=10, gamma=0.1, kernel=rbf, score=0.6432160804020101, total=   0.0s\n",
      "[CV] C=10, gamma=0.1, kernel=rbf .....................................\n",
      "[CV]  C=10, gamma=0.1, kernel=rbf, score=0.678391959798995, total=   0.0s\n",
      "[CV] C=10, gamma=0.1, kernel=rbf .....................................\n",
      "[CV]  C=10, gamma=0.1, kernel=rbf, score=0.696969696969697, total=   0.0s\n",
      "[CV] C=10, gamma=0.01, kernel=rbf ....................................\n",
      "[CV]  C=10, gamma=0.01, kernel=rbf, score=0.6984924623115578, total=   0.0s\n",
      "[CV] C=10, gamma=0.01, kernel=rbf ....................................\n",
      "[CV]  C=10, gamma=0.01, kernel=rbf, score=0.7035175879396985, total=   0.0s\n",
      "[CV] C=10, gamma=0.01, kernel=rbf ....................................\n",
      "[CV]  C=10, gamma=0.01, kernel=rbf, score=0.7272727272727273, total=   0.0s\n",
      "[CV] C=10, gamma=0.001, kernel=rbf ...................................\n",
      "[CV]  C=10, gamma=0.001, kernel=rbf, score=0.7437185929648241, total=   0.0s\n",
      "[CV] C=10, gamma=0.001, kernel=rbf ...................................\n",
      "[CV]  C=10, gamma=0.001, kernel=rbf, score=0.7035175879396985, total=   0.0s\n",
      "[CV] C=10, gamma=0.001, kernel=rbf ...................................\n",
      "[CV]  C=10, gamma=0.001, kernel=rbf, score=0.7171717171717171, total=   0.0s\n",
      "[CV] C=10, gamma=0.0001, kernel=rbf ..................................\n",
      "[CV]  C=10, gamma=0.0001, kernel=rbf, score=0.7085427135678392, total=   0.0s\n",
      "[CV] C=10, gamma=0.0001, kernel=rbf ..................................\n",
      "[CV]  C=10, gamma=0.0001, kernel=rbf, score=0.628140703517588, total=   0.0s\n",
      "[CV] C=10, gamma=0.0001, kernel=rbf ..................................\n",
      "[CV]  C=10, gamma=0.0001, kernel=rbf, score=0.6666666666666666, total=   0.0s\n",
      "[CV] C=50, gamma=100, kernel=rbf .....................................\n",
      "[CV]  C=50, gamma=100, kernel=rbf, score=0.6331658291457286, total=   0.0s\n",
      "[CV] C=50, gamma=100, kernel=rbf .....................................\n",
      "[CV]  C=50, gamma=100, kernel=rbf, score=0.6231155778894473, total=   0.0s\n",
      "[CV] C=50, gamma=100, kernel=rbf .....................................\n",
      "[CV]  C=50, gamma=100, kernel=rbf, score=0.6464646464646465, total=   0.0s\n",
      "[CV] C=50, gamma=50, kernel=rbf ......................................\n",
      "[CV]  C=50, gamma=50, kernel=rbf, score=0.6331658291457286, total=   0.0s\n",
      "[CV] C=50, gamma=50, kernel=rbf ......................................\n",
      "[CV]  C=50, gamma=50, kernel=rbf, score=0.6231155778894473, total=   0.0s\n",
      "[CV] C=50, gamma=50, kernel=rbf ......................................\n",
      "[CV]  C=50, gamma=50, kernel=rbf, score=0.6363636363636364, total=   0.0s\n",
      "[CV] C=50, gamma=20, kernel=rbf ......................................\n",
      "[CV]  C=50, gamma=20, kernel=rbf, score=0.6331658291457286, total=   0.0s\n",
      "[CV] C=50, gamma=20, kernel=rbf ......................................\n",
      "[CV]  C=50, gamma=20, kernel=rbf, score=0.6180904522613065, total=   0.0s\n",
      "[CV] C=50, gamma=20, kernel=rbf ......................................\n",
      "[CV]  C=50, gamma=20, kernel=rbf, score=0.6262626262626263, total=   0.0s\n",
      "[CV] C=50, gamma=10, kernel=rbf ......................................\n",
      "[CV]  C=50, gamma=10, kernel=rbf, score=0.628140703517588, total=   0.0s\n",
      "[CV] C=50, gamma=10, kernel=rbf ......................................\n",
      "[CV]  C=50, gamma=10, kernel=rbf, score=0.6130653266331658, total=   0.0s\n",
      "[CV] C=50, gamma=10, kernel=rbf ......................................\n",
      "[CV]  C=50, gamma=10, kernel=rbf, score=0.6262626262626263, total=   0.0s\n",
      "[CV] C=50, gamma=1, kernel=rbf .......................................\n",
      "[CV]  C=50, gamma=1, kernel=rbf, score=0.6432160804020101, total=   0.0s\n",
      "[CV] C=50, gamma=1, kernel=rbf .......................................\n",
      "[CV]  C=50, gamma=1, kernel=rbf, score=0.6180904522613065, total=   0.0s\n",
      "[CV] C=50, gamma=1, kernel=rbf .......................................\n",
      "[CV]  C=50, gamma=1, kernel=rbf, score=0.5909090909090909, total=   0.0s\n",
      "[CV] C=50, gamma=0.1, kernel=rbf .....................................\n",
      "[CV]  C=50, gamma=0.1, kernel=rbf, score=0.628140703517588, total=   0.0s\n",
      "[CV] C=50, gamma=0.1, kernel=rbf .....................................\n",
      "[CV]  C=50, gamma=0.1, kernel=rbf, score=0.678391959798995, total=   0.0s\n",
      "[CV] C=50, gamma=0.1, kernel=rbf .....................................\n",
      "[CV]  C=50, gamma=0.1, kernel=rbf, score=0.6616161616161617, total=   0.0s\n",
      "[CV] C=50, gamma=0.01, kernel=rbf ....................................\n",
      "[CV]  C=50, gamma=0.01, kernel=rbf, score=0.7336683417085427, total=   0.0s\n",
      "[CV] C=50, gamma=0.01, kernel=rbf ....................................\n",
      "[CV]  C=50, gamma=0.01, kernel=rbf, score=0.6984924623115578, total=   0.0s\n",
      "[CV] C=50, gamma=0.01, kernel=rbf ....................................\n",
      "[CV]  C=50, gamma=0.01, kernel=rbf, score=0.7424242424242424, total=   0.0s\n",
      "[CV] C=50, gamma=0.001, kernel=rbf ...................................\n",
      "[CV]  C=50, gamma=0.001, kernel=rbf, score=0.7587939698492462, total=   0.0s\n",
      "[CV] C=50, gamma=0.001, kernel=rbf ...................................\n",
      "[CV]  C=50, gamma=0.001, kernel=rbf, score=0.7537688442211056, total=   0.0s\n",
      "[CV] C=50, gamma=0.001, kernel=rbf ...................................\n",
      "[CV]  C=50, gamma=0.001, kernel=rbf, score=0.803030303030303, total=   0.0s\n",
      "[CV] C=50, gamma=0.0001, kernel=rbf ..................................\n",
      "[CV]  C=50, gamma=0.0001, kernel=rbf, score=0.7989949748743719, total=   0.0s\n",
      "[CV] C=50, gamma=0.0001, kernel=rbf ..................................\n",
      "[CV]  C=50, gamma=0.0001, kernel=rbf, score=0.7085427135678392, total=   0.0s\n",
      "[CV] C=50, gamma=0.0001, kernel=rbf ..................................\n",
      "[CV]  C=50, gamma=0.0001, kernel=rbf, score=0.7121212121212122, total=   0.0s\n",
      "[CV] C=100, gamma=100, kernel=rbf ....................................\n",
      "[CV]  C=100, gamma=100, kernel=rbf, score=0.6331658291457286, total=   0.0s\n",
      "[CV] C=100, gamma=100, kernel=rbf ....................................\n",
      "[CV]  C=100, gamma=100, kernel=rbf, score=0.6231155778894473, total=   0.0s\n",
      "[CV] C=100, gamma=100, kernel=rbf ....................................\n",
      "[CV]  C=100, gamma=100, kernel=rbf, score=0.6464646464646465, total=   0.0s\n",
      "[CV] C=100, gamma=50, kernel=rbf .....................................\n",
      "[CV]  C=100, gamma=50, kernel=rbf, score=0.6331658291457286, total=   0.0s\n",
      "[CV] C=100, gamma=50, kernel=rbf .....................................\n",
      "[CV]  C=100, gamma=50, kernel=rbf, score=0.6231155778894473, total=   0.0s\n",
      "[CV] C=100, gamma=50, kernel=rbf .....................................\n",
      "[CV]  C=100, gamma=50, kernel=rbf, score=0.6363636363636364, total=   0.0s\n",
      "[CV] C=100, gamma=20, kernel=rbf .....................................\n",
      "[CV]  C=100, gamma=20, kernel=rbf, score=0.6331658291457286, total=   0.0s\n",
      "[CV] C=100, gamma=20, kernel=rbf .....................................\n",
      "[CV]  C=100, gamma=20, kernel=rbf, score=0.6130653266331658, total=   0.0s\n",
      "[CV] C=100, gamma=20, kernel=rbf .....................................\n",
      "[CV]  C=100, gamma=20, kernel=rbf, score=0.6262626262626263, total=   0.0s\n",
      "[CV] C=100, gamma=10, kernel=rbf .....................................\n",
      "[CV]  C=100, gamma=10, kernel=rbf, score=0.628140703517588, total=   0.0s\n",
      "[CV] C=100, gamma=10, kernel=rbf .....................................\n",
      "[CV]  C=100, gamma=10, kernel=rbf, score=0.6180904522613065, total=   0.0s\n",
      "[CV] C=100, gamma=10, kernel=rbf .....................................\n",
      "[CV]  C=100, gamma=10, kernel=rbf, score=0.6262626262626263, total=   0.0s\n",
      "[CV] C=100, gamma=1, kernel=rbf ......................................\n",
      "[CV]  C=100, gamma=1, kernel=rbf, score=0.6482412060301508, total=   0.0s\n",
      "[CV] C=100, gamma=1, kernel=rbf ......................................\n",
      "[CV]  C=100, gamma=1, kernel=rbf, score=0.6180904522613065, total=   0.0s\n",
      "[CV] C=100, gamma=1, kernel=rbf ......................................\n"
     ]
    },
    {
     "name": "stdout",
     "output_type": "stream",
     "text": [
      "[CV]  C=100, gamma=1, kernel=rbf, score=0.5909090909090909, total=   0.0s\n",
      "[CV] C=100, gamma=0.1, kernel=rbf ....................................\n",
      "[CV]  C=100, gamma=0.1, kernel=rbf, score=0.6231155778894473, total=   0.0s\n",
      "[CV] C=100, gamma=0.1, kernel=rbf ....................................\n",
      "[CV]  C=100, gamma=0.1, kernel=rbf, score=0.678391959798995, total=   0.0s\n",
      "[CV] C=100, gamma=0.1, kernel=rbf ....................................\n",
      "[CV]  C=100, gamma=0.1, kernel=rbf, score=0.6161616161616161, total=   0.0s\n",
      "[CV] C=100, gamma=0.01, kernel=rbf ...................................\n",
      "[CV]  C=100, gamma=0.01, kernel=rbf, score=0.678391959798995, total=   0.0s\n",
      "[CV] C=100, gamma=0.01, kernel=rbf ...................................\n",
      "[CV]  C=100, gamma=0.01, kernel=rbf, score=0.6984924623115578, total=   0.0s\n",
      "[CV] C=100, gamma=0.01, kernel=rbf ...................................\n",
      "[CV]  C=100, gamma=0.01, kernel=rbf, score=0.7272727272727273, total=   0.0s\n",
      "[CV] C=100, gamma=0.001, kernel=rbf ..................................\n",
      "[CV]  C=100, gamma=0.001, kernel=rbf, score=0.7939698492462312, total=   0.0s\n",
      "[CV] C=100, gamma=0.001, kernel=rbf ..................................\n",
      "[CV]  C=100, gamma=0.001, kernel=rbf, score=0.7437185929648241, total=   0.0s\n",
      "[CV] C=100, gamma=0.001, kernel=rbf ..................................\n",
      "[CV]  C=100, gamma=0.001, kernel=rbf, score=0.797979797979798, total=   0.0s\n",
      "[CV] C=100, gamma=0.0001, kernel=rbf .................................\n",
      "[CV]  C=100, gamma=0.0001, kernel=rbf, score=0.7989949748743719, total=   0.0s\n",
      "[CV] C=100, gamma=0.0001, kernel=rbf .................................\n",
      "[CV]  C=100, gamma=0.0001, kernel=rbf, score=0.7437185929648241, total=   0.0s\n",
      "[CV] C=100, gamma=0.0001, kernel=rbf .................................\n",
      "[CV]  C=100, gamma=0.0001, kernel=rbf, score=0.8282828282828283, total=   0.0s\n",
      "[CV] C=200, gamma=100, kernel=rbf ....................................\n",
      "[CV]  C=200, gamma=100, kernel=rbf, score=0.6331658291457286, total=   0.0s\n",
      "[CV] C=200, gamma=100, kernel=rbf ....................................\n",
      "[CV]  C=200, gamma=100, kernel=rbf, score=0.6231155778894473, total=   0.0s\n",
      "[CV] C=200, gamma=100, kernel=rbf ....................................\n",
      "[CV]  C=200, gamma=100, kernel=rbf, score=0.6464646464646465, total=   0.0s\n",
      "[CV] C=200, gamma=50, kernel=rbf .....................................\n",
      "[CV]  C=200, gamma=50, kernel=rbf, score=0.6331658291457286, total=   0.0s\n",
      "[CV] C=200, gamma=50, kernel=rbf .....................................\n",
      "[CV]  C=200, gamma=50, kernel=rbf, score=0.6231155778894473, total=   0.0s\n",
      "[CV] C=200, gamma=50, kernel=rbf .....................................\n",
      "[CV]  C=200, gamma=50, kernel=rbf, score=0.6363636363636364, total=   0.0s\n",
      "[CV] C=200, gamma=20, kernel=rbf .....................................\n",
      "[CV]  C=200, gamma=20, kernel=rbf, score=0.6331658291457286, total=   0.0s\n",
      "[CV] C=200, gamma=20, kernel=rbf .....................................\n",
      "[CV]  C=200, gamma=20, kernel=rbf, score=0.6130653266331658, total=   0.0s\n",
      "[CV] C=200, gamma=20, kernel=rbf .....................................\n",
      "[CV]  C=200, gamma=20, kernel=rbf, score=0.6262626262626263, total=   0.0s\n",
      "[CV] C=200, gamma=10, kernel=rbf .....................................\n",
      "[CV]  C=200, gamma=10, kernel=rbf, score=0.628140703517588, total=   0.0s\n",
      "[CV] C=200, gamma=10, kernel=rbf .....................................\n",
      "[CV]  C=200, gamma=10, kernel=rbf, score=0.6180904522613065, total=   0.0s\n",
      "[CV] C=200, gamma=10, kernel=rbf .....................................\n",
      "[CV]  C=200, gamma=10, kernel=rbf, score=0.6262626262626263, total=   0.0s\n",
      "[CV] C=200, gamma=1, kernel=rbf ......................................\n",
      "[CV]  C=200, gamma=1, kernel=rbf, score=0.6331658291457286, total=   0.0s\n",
      "[CV] C=200, gamma=1, kernel=rbf ......................................\n",
      "[CV]  C=200, gamma=1, kernel=rbf, score=0.6180904522613065, total=   0.0s\n",
      "[CV] C=200, gamma=1, kernel=rbf ......................................\n",
      "[CV]  C=200, gamma=1, kernel=rbf, score=0.5909090909090909, total=   0.0s\n",
      "[CV] C=200, gamma=0.1, kernel=rbf ....................................\n",
      "[CV]  C=200, gamma=0.1, kernel=rbf, score=0.6331658291457286, total=   0.0s\n",
      "[CV] C=200, gamma=0.1, kernel=rbf ....................................\n",
      "[CV]  C=200, gamma=0.1, kernel=rbf, score=0.6633165829145728, total=   0.0s\n",
      "[CV] C=200, gamma=0.1, kernel=rbf ....................................\n",
      "[CV]  C=200, gamma=0.1, kernel=rbf, score=0.601010101010101, total=   0.0s\n",
      "[CV] C=200, gamma=0.01, kernel=rbf ...................................\n",
      "[CV]  C=200, gamma=0.01, kernel=rbf, score=0.6733668341708543, total=   0.0s\n",
      "[CV] C=200, gamma=0.01, kernel=rbf ...................................\n",
      "[CV]  C=200, gamma=0.01, kernel=rbf, score=0.7085427135678392, total=   0.0s\n",
      "[CV] C=200, gamma=0.01, kernel=rbf ...................................\n",
      "[CV]  C=200, gamma=0.01, kernel=rbf, score=0.7121212121212122, total=   0.0s\n",
      "[CV] C=200, gamma=0.001, kernel=rbf ..................................\n",
      "[CV]  C=200, gamma=0.001, kernel=rbf, score=0.7889447236180904, total=   0.0s\n",
      "[CV] C=200, gamma=0.001, kernel=rbf ..................................\n",
      "[CV]  C=200, gamma=0.001, kernel=rbf, score=0.7386934673366834, total=   0.0s\n",
      "[CV] C=200, gamma=0.001, kernel=rbf ..................................\n",
      "[CV]  C=200, gamma=0.001, kernel=rbf, score=0.797979797979798, total=   0.0s\n",
      "[CV] C=200, gamma=0.0001, kernel=rbf .................................\n",
      "[CV]  C=200, gamma=0.0001, kernel=rbf, score=0.7989949748743719, total=   0.0s\n",
      "[CV] C=200, gamma=0.0001, kernel=rbf .................................\n",
      "[CV]  C=200, gamma=0.0001, kernel=rbf, score=0.7386934673366834, total=   0.0s\n",
      "[CV] C=200, gamma=0.0001, kernel=rbf .................................\n",
      "[CV]  C=200, gamma=0.0001, kernel=rbf, score=0.8232323232323232, total=   0.0s\n",
      "[CV] C=500, gamma=100, kernel=rbf ....................................\n",
      "[CV]  C=500, gamma=100, kernel=rbf, score=0.6331658291457286, total=   0.0s\n",
      "[CV] C=500, gamma=100, kernel=rbf ....................................\n",
      "[CV]  C=500, gamma=100, kernel=rbf, score=0.6231155778894473, total=   0.0s\n",
      "[CV] C=500, gamma=100, kernel=rbf ....................................\n",
      "[CV]  C=500, gamma=100, kernel=rbf, score=0.6464646464646465, total=   0.0s\n",
      "[CV] C=500, gamma=50, kernel=rbf .....................................\n",
      "[CV]  C=500, gamma=50, kernel=rbf, score=0.6331658291457286, total=   0.0s\n",
      "[CV] C=500, gamma=50, kernel=rbf .....................................\n",
      "[CV]  C=500, gamma=50, kernel=rbf, score=0.6231155778894473, total=   0.0s\n",
      "[CV] C=500, gamma=50, kernel=rbf .....................................\n",
      "[CV]  C=500, gamma=50, kernel=rbf, score=0.6363636363636364, total=   0.0s\n",
      "[CV] C=500, gamma=20, kernel=rbf .....................................\n",
      "[CV]  C=500, gamma=20, kernel=rbf, score=0.6331658291457286, total=   0.0s\n",
      "[CV] C=500, gamma=20, kernel=rbf .....................................\n",
      "[CV]  C=500, gamma=20, kernel=rbf, score=0.6130653266331658, total=   0.0s\n",
      "[CV] C=500, gamma=20, kernel=rbf .....................................\n",
      "[CV]  C=500, gamma=20, kernel=rbf, score=0.6262626262626263, total=   0.0s\n",
      "[CV] C=500, gamma=10, kernel=rbf .....................................\n",
      "[CV]  C=500, gamma=10, kernel=rbf, score=0.628140703517588, total=   0.0s\n",
      "[CV] C=500, gamma=10, kernel=rbf .....................................\n",
      "[CV]  C=500, gamma=10, kernel=rbf, score=0.6130653266331658, total=   0.0s\n",
      "[CV] C=500, gamma=10, kernel=rbf .....................................\n",
      "[CV]  C=500, gamma=10, kernel=rbf, score=0.6262626262626263, total=   0.0s\n",
      "[CV] C=500, gamma=1, kernel=rbf ......................................\n",
      "[CV]  C=500, gamma=1, kernel=rbf, score=0.6381909547738693, total=   0.0s\n",
      "[CV] C=500, gamma=1, kernel=rbf ......................................\n",
      "[CV]  C=500, gamma=1, kernel=rbf, score=0.6180904522613065, total=   0.0s\n",
      "[CV] C=500, gamma=1, kernel=rbf ......................................\n",
      "[CV]  C=500, gamma=1, kernel=rbf, score=0.5909090909090909, total=   0.0s\n",
      "[CV] C=500, gamma=0.1, kernel=rbf ....................................\n",
      "[CV]  C=500, gamma=0.1, kernel=rbf, score=0.6331658291457286, total=   0.0s\n",
      "[CV] C=500, gamma=0.1, kernel=rbf ....................................\n",
      "[CV]  C=500, gamma=0.1, kernel=rbf, score=0.6683417085427136, total=   0.0s\n",
      "[CV] C=500, gamma=0.1, kernel=rbf ....................................\n",
      "[CV]  C=500, gamma=0.1, kernel=rbf, score=0.5707070707070707, total=   0.0s\n",
      "[CV] C=500, gamma=0.01, kernel=rbf ...................................\n"
     ]
    },
    {
     "name": "stdout",
     "output_type": "stream",
     "text": [
      "[CV]  C=500, gamma=0.01, kernel=rbf, score=0.6683417085427136, total=   0.0s\n",
      "[CV] C=500, gamma=0.01, kernel=rbf ...................................\n",
      "[CV]  C=500, gamma=0.01, kernel=rbf, score=0.7185929648241206, total=   0.0s\n",
      "[CV] C=500, gamma=0.01, kernel=rbf ...................................\n",
      "[CV]  C=500, gamma=0.01, kernel=rbf, score=0.6919191919191919, total=   0.0s\n",
      "[CV] C=500, gamma=0.001, kernel=rbf ..................................\n",
      "[CV]  C=500, gamma=0.001, kernel=rbf, score=0.7738693467336684, total=   0.0s\n",
      "[CV] C=500, gamma=0.001, kernel=rbf ..................................\n",
      "[CV]  C=500, gamma=0.001, kernel=rbf, score=0.7135678391959799, total=   0.0s\n",
      "[CV] C=500, gamma=0.001, kernel=rbf ..................................\n",
      "[CV]  C=500, gamma=0.001, kernel=rbf, score=0.7777777777777778, total=   0.0s\n",
      "[CV] C=500, gamma=0.0001, kernel=rbf .................................\n",
      "[CV]  C=500, gamma=0.0001, kernel=rbf, score=0.8090452261306532, total=   0.0s\n",
      "[CV] C=500, gamma=0.0001, kernel=rbf .................................\n",
      "[CV]  C=500, gamma=0.0001, kernel=rbf, score=0.7537688442211056, total=   0.0s\n",
      "[CV] C=500, gamma=0.0001, kernel=rbf .................................\n",
      "[CV]  C=500, gamma=0.0001, kernel=rbf, score=0.8232323232323232, total=   0.0s\n",
      "[CV] C=1000, gamma=100, kernel=rbf ...................................\n",
      "[CV]  C=1000, gamma=100, kernel=rbf, score=0.6331658291457286, total=   0.0s\n",
      "[CV] C=1000, gamma=100, kernel=rbf ...................................\n",
      "[CV]  C=1000, gamma=100, kernel=rbf, score=0.6231155778894473, total=   0.0s\n",
      "[CV] C=1000, gamma=100, kernel=rbf ...................................\n",
      "[CV]  C=1000, gamma=100, kernel=rbf, score=0.6464646464646465, total=   0.0s\n",
      "[CV] C=1000, gamma=50, kernel=rbf ....................................\n",
      "[CV]  C=1000, gamma=50, kernel=rbf, score=0.6331658291457286, total=   0.0s\n",
      "[CV] C=1000, gamma=50, kernel=rbf ....................................\n",
      "[CV]  C=1000, gamma=50, kernel=rbf, score=0.6231155778894473, total=   0.0s\n",
      "[CV] C=1000, gamma=50, kernel=rbf ....................................\n",
      "[CV]  C=1000, gamma=50, kernel=rbf, score=0.6363636363636364, total=   0.0s\n",
      "[CV] C=1000, gamma=20, kernel=rbf ....................................\n",
      "[CV]  C=1000, gamma=20, kernel=rbf, score=0.6331658291457286, total=   0.0s\n",
      "[CV] C=1000, gamma=20, kernel=rbf ....................................\n",
      "[CV]  C=1000, gamma=20, kernel=rbf, score=0.6130653266331658, total=   0.0s\n",
      "[CV] C=1000, gamma=20, kernel=rbf ....................................\n",
      "[CV]  C=1000, gamma=20, kernel=rbf, score=0.6262626262626263, total=   0.0s\n",
      "[CV] C=1000, gamma=10, kernel=rbf ....................................\n",
      "[CV]  C=1000, gamma=10, kernel=rbf, score=0.628140703517588, total=   0.0s\n",
      "[CV] C=1000, gamma=10, kernel=rbf ....................................\n",
      "[CV]  C=1000, gamma=10, kernel=rbf, score=0.6130653266331658, total=   0.0s\n",
      "[CV] C=1000, gamma=10, kernel=rbf ....................................\n",
      "[CV]  C=1000, gamma=10, kernel=rbf, score=0.6262626262626263, total=   0.0s\n",
      "[CV] C=1000, gamma=1, kernel=rbf .....................................\n",
      "[CV]  C=1000, gamma=1, kernel=rbf, score=0.6381909547738693, total=   0.0s\n",
      "[CV] C=1000, gamma=1, kernel=rbf .....................................\n",
      "[CV]  C=1000, gamma=1, kernel=rbf, score=0.6231155778894473, total=   0.0s\n",
      "[CV] C=1000, gamma=1, kernel=rbf .....................................\n",
      "[CV]  C=1000, gamma=1, kernel=rbf, score=0.5909090909090909, total=   0.0s\n",
      "[CV] C=1000, gamma=0.1, kernel=rbf ...................................\n",
      "[CV]  C=1000, gamma=0.1, kernel=rbf, score=0.6331658291457286, total=   0.0s\n",
      "[CV] C=1000, gamma=0.1, kernel=rbf ...................................\n",
      "[CV]  C=1000, gamma=0.1, kernel=rbf, score=0.6733668341708543, total=   0.0s\n",
      "[CV] C=1000, gamma=0.1, kernel=rbf ...................................\n",
      "[CV]  C=1000, gamma=0.1, kernel=rbf, score=0.5707070707070707, total=   0.0s\n",
      "[CV] C=1000, gamma=0.01, kernel=rbf ..................................\n",
      "[CV]  C=1000, gamma=0.01, kernel=rbf, score=0.6733668341708543, total=   0.0s\n",
      "[CV] C=1000, gamma=0.01, kernel=rbf ..................................\n",
      "[CV]  C=1000, gamma=0.01, kernel=rbf, score=0.7185929648241206, total=   0.0s\n",
      "[CV] C=1000, gamma=0.01, kernel=rbf ..................................\n",
      "[CV]  C=1000, gamma=0.01, kernel=rbf, score=0.696969696969697, total=   0.0s\n",
      "[CV] C=1000, gamma=0.001, kernel=rbf .................................\n",
      "[CV]  C=1000, gamma=0.001, kernel=rbf, score=0.7638190954773869, total=   0.0s\n",
      "[CV] C=1000, gamma=0.001, kernel=rbf .................................\n",
      "[CV]  C=1000, gamma=0.001, kernel=rbf, score=0.7185929648241206, total=   0.0s\n",
      "[CV] C=1000, gamma=0.001, kernel=rbf .................................\n",
      "[CV]  C=1000, gamma=0.001, kernel=rbf, score=0.797979797979798, total=   0.0s\n",
      "[CV] C=1000, gamma=0.0001, kernel=rbf ................................\n",
      "[CV]  C=1000, gamma=0.0001, kernel=rbf, score=0.8140703517587939, total=   0.0s\n",
      "[CV] C=1000, gamma=0.0001, kernel=rbf ................................\n",
      "[CV]  C=1000, gamma=0.0001, kernel=rbf, score=0.7487437185929648, total=   0.0s\n",
      "[CV] C=1000, gamma=0.0001, kernel=rbf ................................\n",
      "[CV]  C=1000, gamma=0.0001, kernel=rbf, score=0.8282828282828283, total=   0.0s\n",
      "[CV] C=1200, gamma=100, kernel=rbf ...................................\n",
      "[CV]  C=1200, gamma=100, kernel=rbf, score=0.6331658291457286, total=   0.0s\n",
      "[CV] C=1200, gamma=100, kernel=rbf ...................................\n",
      "[CV]  C=1200, gamma=100, kernel=rbf, score=0.6231155778894473, total=   0.0s\n",
      "[CV] C=1200, gamma=100, kernel=rbf ...................................\n",
      "[CV]  C=1200, gamma=100, kernel=rbf, score=0.6464646464646465, total=   0.0s\n",
      "[CV] C=1200, gamma=50, kernel=rbf ....................................\n",
      "[CV]  C=1200, gamma=50, kernel=rbf, score=0.6331658291457286, total=   0.0s\n",
      "[CV] C=1200, gamma=50, kernel=rbf ....................................\n",
      "[CV]  C=1200, gamma=50, kernel=rbf, score=0.6231155778894473, total=   0.0s\n",
      "[CV] C=1200, gamma=50, kernel=rbf ....................................\n",
      "[CV]  C=1200, gamma=50, kernel=rbf, score=0.6363636363636364, total=   0.0s\n",
      "[CV] C=1200, gamma=20, kernel=rbf ....................................\n",
      "[CV]  C=1200, gamma=20, kernel=rbf, score=0.6331658291457286, total=   0.0s\n",
      "[CV] C=1200, gamma=20, kernel=rbf ....................................\n",
      "[CV]  C=1200, gamma=20, kernel=rbf, score=0.6130653266331658, total=   0.0s\n",
      "[CV] C=1200, gamma=20, kernel=rbf ....................................\n",
      "[CV]  C=1200, gamma=20, kernel=rbf, score=0.6262626262626263, total=   0.0s\n",
      "[CV] C=1200, gamma=10, kernel=rbf ....................................\n",
      "[CV]  C=1200, gamma=10, kernel=rbf, score=0.628140703517588, total=   0.0s\n",
      "[CV] C=1200, gamma=10, kernel=rbf ....................................\n",
      "[CV]  C=1200, gamma=10, kernel=rbf, score=0.6130653266331658, total=   0.0s\n",
      "[CV] C=1200, gamma=10, kernel=rbf ....................................\n",
      "[CV]  C=1200, gamma=10, kernel=rbf, score=0.6262626262626263, total=   0.0s\n",
      "[CV] C=1200, gamma=1, kernel=rbf .....................................\n",
      "[CV]  C=1200, gamma=1, kernel=rbf, score=0.6381909547738693, total=   0.0s\n",
      "[CV] C=1200, gamma=1, kernel=rbf .....................................\n",
      "[CV]  C=1200, gamma=1, kernel=rbf, score=0.6231155778894473, total=   0.0s\n",
      "[CV] C=1200, gamma=1, kernel=rbf .....................................\n",
      "[CV]  C=1200, gamma=1, kernel=rbf, score=0.5909090909090909, total=   0.0s\n",
      "[CV] C=1200, gamma=0.1, kernel=rbf ...................................\n",
      "[CV]  C=1200, gamma=0.1, kernel=rbf, score=0.6331658291457286, total=   0.0s\n",
      "[CV] C=1200, gamma=0.1, kernel=rbf ...................................\n",
      "[CV]  C=1200, gamma=0.1, kernel=rbf, score=0.678391959798995, total=   0.0s\n",
      "[CV] C=1200, gamma=0.1, kernel=rbf ...................................\n",
      "[CV]  C=1200, gamma=0.1, kernel=rbf, score=0.5656565656565656, total=   0.0s\n",
      "[CV] C=1200, gamma=0.01, kernel=rbf ..................................\n",
      "[CV]  C=1200, gamma=0.01, kernel=rbf, score=0.678391959798995, total=   0.1s\n",
      "[CV] C=1200, gamma=0.01, kernel=rbf ..................................\n",
      "[CV]  C=1200, gamma=0.01, kernel=rbf, score=0.7286432160804021, total=   0.0s\n",
      "[CV] C=1200, gamma=0.01, kernel=rbf ..................................\n"
     ]
    },
    {
     "name": "stdout",
     "output_type": "stream",
     "text": [
      "[CV]  C=1200, gamma=0.01, kernel=rbf, score=0.6919191919191919, total=   0.1s\n",
      "[CV] C=1200, gamma=0.001, kernel=rbf .................................\n",
      "[CV]  C=1200, gamma=0.001, kernel=rbf, score=0.7638190954773869, total=   0.0s\n",
      "[CV] C=1200, gamma=0.001, kernel=rbf .................................\n",
      "[CV]  C=1200, gamma=0.001, kernel=rbf, score=0.7135678391959799, total=   0.0s\n",
      "[CV] C=1200, gamma=0.001, kernel=rbf .................................\n",
      "[CV]  C=1200, gamma=0.001, kernel=rbf, score=0.803030303030303, total=   0.0s\n",
      "[CV] C=1200, gamma=0.0001, kernel=rbf ................................\n",
      "[CV]  C=1200, gamma=0.0001, kernel=rbf, score=0.8140703517587939, total=   0.0s\n",
      "[CV] C=1200, gamma=0.0001, kernel=rbf ................................\n",
      "[CV]  C=1200, gamma=0.0001, kernel=rbf, score=0.7537688442211056, total=   0.0s\n",
      "[CV] C=1200, gamma=0.0001, kernel=rbf ................................\n",
      "[CV]  C=1200, gamma=0.0001, kernel=rbf, score=0.8232323232323232, total=   0.0s\n",
      "[CV] C=1500, gamma=100, kernel=rbf ...................................\n",
      "[CV]  C=1500, gamma=100, kernel=rbf, score=0.6331658291457286, total=   0.0s\n",
      "[CV] C=1500, gamma=100, kernel=rbf ...................................\n",
      "[CV]  C=1500, gamma=100, kernel=rbf, score=0.6231155778894473, total=   0.0s\n",
      "[CV] C=1500, gamma=100, kernel=rbf ...................................\n",
      "[CV]  C=1500, gamma=100, kernel=rbf, score=0.6464646464646465, total=   0.0s\n",
      "[CV] C=1500, gamma=50, kernel=rbf ....................................\n",
      "[CV]  C=1500, gamma=50, kernel=rbf, score=0.6331658291457286, total=   0.0s\n",
      "[CV] C=1500, gamma=50, kernel=rbf ....................................\n",
      "[CV]  C=1500, gamma=50, kernel=rbf, score=0.6231155778894473, total=   0.0s\n",
      "[CV] C=1500, gamma=50, kernel=rbf ....................................\n",
      "[CV]  C=1500, gamma=50, kernel=rbf, score=0.6363636363636364, total=   0.0s\n",
      "[CV] C=1500, gamma=20, kernel=rbf ....................................\n",
      "[CV]  C=1500, gamma=20, kernel=rbf, score=0.6331658291457286, total=   0.0s\n",
      "[CV] C=1500, gamma=20, kernel=rbf ....................................\n",
      "[CV]  C=1500, gamma=20, kernel=rbf, score=0.6130653266331658, total=   0.0s\n",
      "[CV] C=1500, gamma=20, kernel=rbf ....................................\n",
      "[CV]  C=1500, gamma=20, kernel=rbf, score=0.6262626262626263, total=   0.0s\n",
      "[CV] C=1500, gamma=10, kernel=rbf ....................................\n",
      "[CV]  C=1500, gamma=10, kernel=rbf, score=0.628140703517588, total=   0.0s\n",
      "[CV] C=1500, gamma=10, kernel=rbf ....................................\n",
      "[CV]  C=1500, gamma=10, kernel=rbf, score=0.6130653266331658, total=   0.0s\n",
      "[CV] C=1500, gamma=10, kernel=rbf ....................................\n",
      "[CV]  C=1500, gamma=10, kernel=rbf, score=0.6262626262626263, total=   0.0s\n",
      "[CV] C=1500, gamma=1, kernel=rbf .....................................\n",
      "[CV]  C=1500, gamma=1, kernel=rbf, score=0.6381909547738693, total=   0.0s\n",
      "[CV] C=1500, gamma=1, kernel=rbf .....................................\n",
      "[CV]  C=1500, gamma=1, kernel=rbf, score=0.6231155778894473, total=   0.0s\n",
      "[CV] C=1500, gamma=1, kernel=rbf .....................................\n",
      "[CV]  C=1500, gamma=1, kernel=rbf, score=0.5959595959595959, total=   0.0s\n",
      "[CV] C=1500, gamma=0.1, kernel=rbf ...................................\n",
      "[CV]  C=1500, gamma=0.1, kernel=rbf, score=0.628140703517588, total=   0.0s\n",
      "[CV] C=1500, gamma=0.1, kernel=rbf ...................................\n",
      "[CV]  C=1500, gamma=0.1, kernel=rbf, score=0.6834170854271356, total=   0.0s\n",
      "[CV] C=1500, gamma=0.1, kernel=rbf ...................................\n",
      "[CV]  C=1500, gamma=0.1, kernel=rbf, score=0.5656565656565656, total=   0.0s\n",
      "[CV] C=1500, gamma=0.01, kernel=rbf ..................................\n",
      "[CV]  C=1500, gamma=0.01, kernel=rbf, score=0.6884422110552764, total=   0.1s\n",
      "[CV] C=1500, gamma=0.01, kernel=rbf ..................................\n",
      "[CV]  C=1500, gamma=0.01, kernel=rbf, score=0.7185929648241206, total=   0.1s\n",
      "[CV] C=1500, gamma=0.01, kernel=rbf ..................................\n",
      "[CV]  C=1500, gamma=0.01, kernel=rbf, score=0.702020202020202, total=   0.1s\n",
      "[CV] C=1500, gamma=0.001, kernel=rbf .................................\n",
      "[CV]  C=1500, gamma=0.001, kernel=rbf, score=0.7638190954773869, total=   0.0s\n",
      "[CV] C=1500, gamma=0.001, kernel=rbf .................................\n",
      "[CV]  C=1500, gamma=0.001, kernel=rbf, score=0.7085427135678392, total=   0.0s\n",
      "[CV] C=1500, gamma=0.001, kernel=rbf .................................\n",
      "[CV]  C=1500, gamma=0.001, kernel=rbf, score=0.803030303030303, total=   0.1s\n",
      "[CV] C=1500, gamma=0.0001, kernel=rbf ................................\n",
      "[CV]  C=1500, gamma=0.0001, kernel=rbf, score=0.8190954773869347, total=   0.0s\n",
      "[CV] C=1500, gamma=0.0001, kernel=rbf ................................\n",
      "[CV]  C=1500, gamma=0.0001, kernel=rbf, score=0.7437185929648241, total=   0.0s\n",
      "[CV] C=1500, gamma=0.0001, kernel=rbf ................................\n",
      "[CV]  C=1500, gamma=0.0001, kernel=rbf, score=0.8282828282828283, total=   0.0s\n",
      "[CV] C=2000, gamma=100, kernel=rbf ...................................\n",
      "[CV]  C=2000, gamma=100, kernel=rbf, score=0.6331658291457286, total=   0.0s\n",
      "[CV] C=2000, gamma=100, kernel=rbf ...................................\n",
      "[CV]  C=2000, gamma=100, kernel=rbf, score=0.6231155778894473, total=   0.0s\n",
      "[CV] C=2000, gamma=100, kernel=rbf ...................................\n",
      "[CV]  C=2000, gamma=100, kernel=rbf, score=0.6464646464646465, total=   0.0s\n",
      "[CV] C=2000, gamma=50, kernel=rbf ....................................\n",
      "[CV]  C=2000, gamma=50, kernel=rbf, score=0.6331658291457286, total=   0.0s\n",
      "[CV] C=2000, gamma=50, kernel=rbf ....................................\n",
      "[CV]  C=2000, gamma=50, kernel=rbf, score=0.6231155778894473, total=   0.0s\n",
      "[CV] C=2000, gamma=50, kernel=rbf ....................................\n",
      "[CV]  C=2000, gamma=50, kernel=rbf, score=0.6363636363636364, total=   0.0s\n",
      "[CV] C=2000, gamma=20, kernel=rbf ....................................\n",
      "[CV]  C=2000, gamma=20, kernel=rbf, score=0.6331658291457286, total=   0.0s\n",
      "[CV] C=2000, gamma=20, kernel=rbf ....................................\n",
      "[CV]  C=2000, gamma=20, kernel=rbf, score=0.6130653266331658, total=   0.0s\n",
      "[CV] C=2000, gamma=20, kernel=rbf ....................................\n",
      "[CV]  C=2000, gamma=20, kernel=rbf, score=0.6262626262626263, total=   0.0s\n",
      "[CV] C=2000, gamma=10, kernel=rbf ....................................\n",
      "[CV]  C=2000, gamma=10, kernel=rbf, score=0.628140703517588, total=   0.0s\n",
      "[CV] C=2000, gamma=10, kernel=rbf ....................................\n",
      "[CV]  C=2000, gamma=10, kernel=rbf, score=0.6130653266331658, total=   0.0s\n",
      "[CV] C=2000, gamma=10, kernel=rbf ....................................\n",
      "[CV]  C=2000, gamma=10, kernel=rbf, score=0.6262626262626263, total=   0.0s\n",
      "[CV] C=2000, gamma=1, kernel=rbf .....................................\n",
      "[CV]  C=2000, gamma=1, kernel=rbf, score=0.6381909547738693, total=   0.0s\n",
      "[CV] C=2000, gamma=1, kernel=rbf .....................................\n",
      "[CV]  C=2000, gamma=1, kernel=rbf, score=0.6180904522613065, total=   0.0s\n",
      "[CV] C=2000, gamma=1, kernel=rbf .....................................\n",
      "[CV]  C=2000, gamma=1, kernel=rbf, score=0.5959595959595959, total=   0.0s\n",
      "[CV] C=2000, gamma=0.1, kernel=rbf ...................................\n",
      "[CV]  C=2000, gamma=0.1, kernel=rbf, score=0.6231155778894473, total=   0.0s\n",
      "[CV] C=2000, gamma=0.1, kernel=rbf ...................................\n",
      "[CV]  C=2000, gamma=0.1, kernel=rbf, score=0.6884422110552764, total=   0.0s\n",
      "[CV] C=2000, gamma=0.1, kernel=rbf ...................................\n",
      "[CV]  C=2000, gamma=0.1, kernel=rbf, score=0.5555555555555556, total=   0.0s\n",
      "[CV] C=2000, gamma=0.01, kernel=rbf ..................................\n",
      "[CV]  C=2000, gamma=0.01, kernel=rbf, score=0.6884422110552764, total=   0.0s\n",
      "[CV] C=2000, gamma=0.01, kernel=rbf ..................................\n",
      "[CV]  C=2000, gamma=0.01, kernel=rbf, score=0.7185929648241206, total=   0.0s\n",
      "[CV] C=2000, gamma=0.01, kernel=rbf ..................................\n",
      "[CV]  C=2000, gamma=0.01, kernel=rbf, score=0.696969696969697, total=   0.2s\n",
      "[CV] C=2000, gamma=0.001, kernel=rbf .................................\n",
      "[CV]  C=2000, gamma=0.001, kernel=rbf, score=0.7688442211055276, total=   0.1s\n",
      "[CV] C=2000, gamma=0.001, kernel=rbf .................................\n"
     ]
    },
    {
     "name": "stdout",
     "output_type": "stream",
     "text": [
      "[CV]  C=2000, gamma=0.001, kernel=rbf, score=0.7085427135678392, total=   0.0s\n",
      "[CV] C=2000, gamma=0.001, kernel=rbf .................................\n",
      "[CV]  C=2000, gamma=0.001, kernel=rbf, score=0.803030303030303, total=   0.1s\n",
      "[CV] C=2000, gamma=0.0001, kernel=rbf ................................\n",
      "[CV]  C=2000, gamma=0.0001, kernel=rbf, score=0.8090452261306532, total=   0.0s\n",
      "[CV] C=2000, gamma=0.0001, kernel=rbf ................................\n",
      "[CV]  C=2000, gamma=0.0001, kernel=rbf, score=0.7487437185929648, total=   0.0s\n",
      "[CV] C=2000, gamma=0.0001, kernel=rbf ................................\n",
      "[CV]  C=2000, gamma=0.0001, kernel=rbf, score=0.8232323232323232, total=   0.0s\n"
     ]
    },
    {
     "name": "stderr",
     "output_type": "stream",
     "text": [
      "[Parallel(n_jobs=1)]: Done 351 out of 351 | elapsed:   26.4s finished\n"
     ]
    },
    {
     "data": {
      "text/plain": [
       "GridSearchCV(cv=None, error_score='raise',\n",
       "       estimator=SVC(C=1.0, cache_size=200, class_weight=None, coef0=0.0,\n",
       "  decision_function_shape='ovr', degree=3, gamma='auto', kernel='rbf',\n",
       "  max_iter=-1, probability=False, random_state=None, shrinking=True,\n",
       "  tol=0.001, verbose=False),\n",
       "       fit_params=None, iid=True, n_jobs=1,\n",
       "       param_grid={'C': [0.01, 0.1, 1, 5, 10, 50, 100, 200, 500, 1000, 1200, 1500, 2000], 'gamma': [100, 50, 20, 10, 1, 0.1, 0.01, 0.001, 0.0001], 'kernel': ['rbf']},\n",
       "       pre_dispatch='2*n_jobs', refit=True, return_train_score='warn',\n",
       "       scoring=None, verbose=3)"
      ]
     },
     "execution_count": 660,
     "metadata": {},
     "output_type": "execute_result"
    }
   ],
   "source": [
    "grid.fit(X_train, y_train)"
   ]
  },
  {
   "cell_type": "code",
   "execution_count": 661,
   "metadata": {},
   "outputs": [
    {
     "data": {
      "text/plain": [
       "{'C': 1000, 'gamma': 0.0001, 'kernel': 'rbf'}"
      ]
     },
     "execution_count": 661,
     "metadata": {},
     "output_type": "execute_result"
    }
   ],
   "source": [
    "grid.best_params_"
   ]
  },
  {
   "cell_type": "code",
   "execution_count": 662,
   "metadata": {},
   "outputs": [
    {
     "data": {
      "text/plain": [
       "SVC(C=1000, cache_size=200, class_weight=None, coef0=0.0,\n",
       "  decision_function_shape='ovr', degree=3, gamma=0.0001, kernel='rbf',\n",
       "  max_iter=-1, probability=False, random_state=None, shrinking=True,\n",
       "  tol=0.001, verbose=False)"
      ]
     },
     "execution_count": 662,
     "metadata": {},
     "output_type": "execute_result"
    }
   ],
   "source": [
    "grid.best_estimator_"
   ]
  },
  {
   "cell_type": "code",
   "execution_count": 663,
   "metadata": {},
   "outputs": [],
   "source": [
    "predictions = grid.predict(X_test)"
   ]
  },
  {
   "cell_type": "code",
   "execution_count": 664,
   "metadata": {},
   "outputs": [
    {
     "name": "stdout",
     "output_type": "stream",
     "text": [
      "             precision    recall  f1-score   support\n",
      "\n",
      "          0       0.83      0.89      0.86       175\n",
      "          1       0.82      0.74      0.78       120\n",
      "\n",
      "avg / total       0.83      0.83      0.83       295\n",
      "\n"
     ]
    }
   ],
   "source": [
    "print(classification_report(y_test, predictions))"
   ]
  },
  {
   "cell_type": "code",
   "execution_count": 665,
   "metadata": {},
   "outputs": [
    {
     "name": "stdout",
     "output_type": "stream",
     "text": [
      "[[156  19]\n",
      " [ 31  89]]\n"
     ]
    }
   ],
   "source": [
    "print(confusion_matrix(y_test, predictions))"
   ]
  },
  {
   "cell_type": "markdown",
   "metadata": {},
   "source": [
    "## Random forests"
   ]
  },
  {
   "cell_type": "code",
   "execution_count": 666,
   "metadata": {},
   "outputs": [
    {
     "data": {
      "text/plain": [
       "RandomForestClassifier(bootstrap=True, class_weight=None, criterion='gini',\n",
       "            max_depth=None, max_features='auto', max_leaf_nodes=None,\n",
       "            min_impurity_decrease=0.0, min_impurity_split=None,\n",
       "            min_samples_leaf=1, min_samples_split=2,\n",
       "            min_weight_fraction_leaf=0.0, n_estimators=100, n_jobs=1,\n",
       "            oob_score=False, random_state=None, verbose=0,\n",
       "            warm_start=False)"
      ]
     },
     "execution_count": 666,
     "metadata": {},
     "output_type": "execute_result"
    }
   ],
   "source": [
    "from sklearn.ensemble import RandomForestClassifier\n",
    "rfc = RandomForestClassifier(n_estimators=100)\n",
    "rfc.fit(X_train, y_train)"
   ]
  },
  {
   "cell_type": "code",
   "execution_count": 667,
   "metadata": {},
   "outputs": [],
   "source": [
    "predictions = rfc.predict(X_test)"
   ]
  },
  {
   "cell_type": "code",
   "execution_count": 668,
   "metadata": {},
   "outputs": [
    {
     "name": "stdout",
     "output_type": "stream",
     "text": [
      "             precision    recall  f1-score   support\n",
      "\n",
      "          0       0.82      0.83      0.82       175\n",
      "          1       0.75      0.73      0.74       120\n",
      "\n",
      "avg / total       0.79      0.79      0.79       295\n",
      "\n"
     ]
    }
   ],
   "source": [
    "print(classification_report(y_test, predictions))"
   ]
  },
  {
   "cell_type": "code",
   "execution_count": 669,
   "metadata": {},
   "outputs": [
    {
     "name": "stdout",
     "output_type": "stream",
     "text": [
      "[[145  30]\n",
      " [ 32  88]]\n"
     ]
    }
   ],
   "source": [
    "print(confusion_matrix(y_test, predictions))"
   ]
  },
  {
   "cell_type": "code",
   "execution_count": null,
   "metadata": {},
   "outputs": [],
   "source": []
  }
 ],
 "metadata": {
  "kernelspec": {
   "display_name": "Python 3",
   "language": "python",
   "name": "python3"
  },
  "language_info": {
   "codemirror_mode": {
    "name": "ipython",
    "version": 3
   },
   "file_extension": ".py",
   "mimetype": "text/x-python",
   "name": "python",
   "nbconvert_exporter": "python",
   "pygments_lexer": "ipython3",
   "version": "3.6.4"
  }
 },
 "nbformat": 4,
 "nbformat_minor": 2
}
